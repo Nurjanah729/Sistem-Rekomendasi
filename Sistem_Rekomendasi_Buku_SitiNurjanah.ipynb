{
  "nbformat": 4,
  "nbformat_minor": 0,
  "metadata": {
    "colab": {
      "provenance": []
    },
    "kernelspec": {
      "name": "python3",
      "display_name": "Python 3"
    },
    "language_info": {
      "name": "python"
    }
  },
  "cells": [
    {
      "cell_type": "markdown",
      "source": [
        "## Import Library\n"
      ],
      "metadata": {
        "id": "-MTX3jiIvt0u"
      }
    },
    {
      "cell_type": "code",
      "source": [
        "import pandas as pd\n",
        "import numpy as np\n",
        "import matplotlib.pyplot as plt\n",
        "import seaborn as sns\n",
        "import joblib # <--- PASTIKAN BARIS INI ADA!\n",
        "\n",
        "# Untuk Content-based Filtering\n",
        "from sklearn.feature_extraction.text import TfidfVectorizer\n",
        "from sklearn.metrics.pairwise import cosine_similarity\n",
        "\n",
        "# Untuk Collaborative Filtering\n",
        "from sklearn.model_selection import train_test_split\n",
        "from sklearn.preprocessing import MinMaxScaler\n",
        "from sklearn.metrics import mean_squared_error # Untuk metrik regresi jika model memprediksi rating\n",
        "# Jika menggunakan metrik klasifikasi/peringkat untuk CF (misal: Precision@k, Recall@k), import yang relevan\n",
        "from scipy.sparse import csr_matrix\n",
        "from tensorflow import keras\n",
        "from tensorflow.keras import layers\n",
        "import tensorflow as tf"
      ],
      "metadata": {
        "id": "GJDHYd4A5kFB"
      },
      "execution_count": 33,
      "outputs": []
    },
    {
      "cell_type": "markdown",
      "source": [
        "Pada bagian ini, kami mengimpor semua library Python yang akan digunakan sepanjang proyek. pandas dan numpy adalah library fundamental untuk manipulasi dan analisis data dalam bentuk tabel dan array. matplotlib.pyplot dan seaborn digunakan untuk membuat visualisasi data seperti grafik dan plot.\n",
        "\n",
        "Untuk model Content-based Filtering, kami mengimpor TfidfVectorizer yang bertugas mengubah data teks (seperti judul, penulis, penerbit) menjadi representasi numerik berbasis TF-IDF. Kemudian, cosine_similarity digunakan untuk menghitung tingkat kemiripan antar buku berdasarkan representasi numerik tersebut.\n",
        "\n",
        "joblib diimpor secara opsional untuk menyimpan objek Python seperti vectorizer atau matriks kesamaan yang telah dilatih, sehingga tidak perlu melatihnya ulang setiap kali. warnings digunakan untuk menyembunyikan peringatan yang mungkin muncul selama eksekusi kode agar output notebook lebih bersih dan mudah dibaca."
      ],
      "metadata": {
        "id": "mi5IAJaWkIVJ"
      }
    },
    {
      "cell_type": "markdown",
      "source": [
        "## Project Overview"
      ],
      "metadata": {
        "id": "eD5OW9Cu5oNY"
      }
    },
    {
      "cell_type": "markdown",
      "source": [
        "\n",
        "Proyek ini berfokus pada pembangunan sistem rekomendasi buku menggunakan pendekatan **Content-based Filtering**. Tujuan utama adalah membantu pengguna menemukan buku-buku yang relevan berdasarkan kemiripan atribut buku itu sendiri, seperti judul, penulis, penerbit, dan bahasa.\n",
        "\n",
        "Dataset yang digunakan adalah `books.csv`, yang berisi informasi detail tentang berbagai buku, termasuk rata-rata peringkat. Namun, perlu dicatat bahwa dataset ini tidak menyertakan data interaksi pengguna individual (seperti `user_id` dan rating spesifik dari setiap pengguna), sehingga implementasi model Collaborative Filtering tidak dimungkinkan.\n",
        "\n",
        "Sistem rekomendasi berbasis konten ini diharapkan dapat menyajikan rekomendasi yang akurat dan personal bagi pembaca berdasarkan preferensi konten buku."
      ],
      "metadata": {
        "id": "FeyhyfAz5xc-"
      }
    },
    {
      "cell_type": "markdown",
      "source": [
        "## Bussines Understanding"
      ],
      "metadata": {
        "id": "ikQpSPnj6Bgg"
      }
    },
    {
      "cell_type": "markdown",
      "source": [
        "\n",
        "Dalam industri penerbitan dan penjualan buku yang dinamis, kemampuan untuk menghubungkan pembaca dengan buku yang tepat adalah kunci kesuksesan. Dari sudut pandang bisnis, sistem rekomendasi buku berbasis konten menawarkan beberapa keuntungan:\n",
        "1.  **Peningkatan Penjualan:** Toko buku atau platform penjualan dapat meningkatkan konversi dan pendapatan dengan merekomendasikan buku yang secara langsung sesuai dengan minat konten pembaca.\n",
        "2.  **Peningkatan Keterlibatan Pengguna:** Pembaca akan lebih sering menggunakan platform jika mereka merasa rekomendasi yang diberikan relevan dan membantu mereka menemukan bacaan yang menarik berdasarkan karakteristik buku yang mereka sukai.\n",
        "3.  **Efisiensi Penemuan Produk:** Mengurangi 'noise' atau kebingungan bagi pengguna yang menghadapi ribuan judul buku, sehingga mempercepat proses penemuan buku yang sesuai.\n",
        "\n",
        "Bagi pembaca, sistem ini menawarkan:\n",
        "1.  **Penghematan Waktu dan Usaha:** Mempersingkat waktu yang dihabiskan untuk mencari buku yang cocok, karena rekomendasi langsung didasarkan pada konten buku yang relevan.\n",
        "2.  **Penemuan Buku Baru yang Relevan:** Membantu menemukan buku-buku lain yang memiliki tema, penulis, atau gaya serupa dengan buku yang sudah mereka sukai.\n",
        "3.  **Pengalaman Personal:** Menyediakan rekomendasi yang disesuaikan dengan selera membaca individu berdasarkan atribut buku."
      ],
      "metadata": {
        "id": "OxEm2X716GQp"
      }
    },
    {
      "cell_type": "markdown",
      "source": [
        "## Data Understanding"
      ],
      "metadata": {
        "id": "3-BIW4qj6OF_"
      }
    },
    {
      "cell_type": "markdown",
      "source": [
        "\n",
        "Tahap ini bertujuan untuk memahami struktur, isi, dan karakteristik dataset `books.csv` yang akan digunakan. Pemahaman yang mendalam tentang data adalah kunci untuk proses pra-pemrosesan yang efektif dan pembangunan model yang akurat. Kami akan memeriksa informasi umum, statistik deskriptif, keberadaan *missing values*, dan duplikasi."
      ],
      "metadata": {
        "id": "VNvjB294ks9g"
      }
    },
    {
      "cell_type": "markdown",
      "source": [
        "Load dataset"
      ],
      "metadata": {
        "id": "PGGGaYef6YRn"
      }
    },
    {
      "cell_type": "code",
      "source": [
        "import pandas as pd\n",
        "\n",
        "df_books = pd.read_csv('/content/books.csv', engine='python', on_bad_lines='skip')"
      ],
      "metadata": {
        "id": "oO2HVgOq6XU-"
      },
      "execution_count": 18,
      "outputs": []
    },
    {
      "cell_type": "markdown",
      "source": [
        "Dataset berhasil dimuat"
      ],
      "metadata": {
        "id": "D3_Rr-VjfNb3"
      }
    },
    {
      "cell_type": "code",
      "source": [
        "df_books.info()"
      ],
      "metadata": {
        "colab": {
          "base_uri": "https://localhost:8080/"
        },
        "id": "CBh7crrBfiLd",
        "outputId": "6dd71072-3bf0-4cee-9d4c-98aca5f77505"
      },
      "execution_count": 19,
      "outputs": [
        {
          "output_type": "stream",
          "name": "stdout",
          "text": [
            "<class 'pandas.core.frame.DataFrame'>\n",
            "RangeIndex: 11119 entries, 0 to 11118\n",
            "Data columns (total 12 columns):\n",
            " #   Column              Non-Null Count  Dtype  \n",
            "---  ------              --------------  -----  \n",
            " 0   bookID              11119 non-null  int64  \n",
            " 1   title               11119 non-null  object \n",
            " 2   authors             11119 non-null  object \n",
            " 3   average_rating      11119 non-null  float64\n",
            " 4   isbn                11119 non-null  object \n",
            " 5   isbn13              11119 non-null  int64  \n",
            " 6   language_code       11119 non-null  object \n",
            " 7     num_pages         11119 non-null  int64  \n",
            " 8   ratings_count       11119 non-null  int64  \n",
            " 9   text_reviews_count  11119 non-null  int64  \n",
            " 10  publication_date    11119 non-null  object \n",
            " 11  publisher           11119 non-null  object \n",
            "dtypes: float64(1), int64(5), object(6)\n",
            "memory usage: 1.0+ MB\n"
          ]
        }
      ]
    },
    {
      "cell_type": "code",
      "source": [
        "df_books.head()"
      ],
      "metadata": {
        "colab": {
          "base_uri": "https://localhost:8080/",
          "height": 746
        },
        "id": "y7pyhvSWidiU",
        "outputId": "55369122-0b86-4f1d-b212-ae784b4e58a5"
      },
      "execution_count": 20,
      "outputs": [
        {
          "output_type": "execute_result",
          "data": {
            "text/plain": [
              "   bookID                                              title  \\\n",
              "0       1  Harry Potter and the Half-Blood Prince (Harry ...   \n",
              "1       2  Harry Potter and the Order of the Phoenix (Har...   \n",
              "2       4  Harry Potter and the Chamber of Secrets (Harry...   \n",
              "3       5  Harry Potter and the Prisoner of Azkaban (Harr...   \n",
              "4       8  Harry Potter Boxed Set  Books 1-5 (Harry Potte...   \n",
              "\n",
              "                      authors  average_rating        isbn         isbn13  \\\n",
              "0  J.K. Rowling/Mary GrandPré            4.57  0439785960  9780439785969   \n",
              "1  J.K. Rowling/Mary GrandPré            4.49  0439358078  9780439358071   \n",
              "2                J.K. Rowling            4.42  0439554896  9780439554893   \n",
              "3  J.K. Rowling/Mary GrandPré            4.56  043965548X  9780439655484   \n",
              "4  J.K. Rowling/Mary GrandPré            4.78  0439682584  9780439682589   \n",
              "\n",
              "  language_code    num_pages  ratings_count  text_reviews_count  \\\n",
              "0           eng          652        2095690               27591   \n",
              "1           eng          870        2153167               29221   \n",
              "2           eng          352           6333                 244   \n",
              "3           eng          435        2339585               36325   \n",
              "4           eng         2690          41428                 164   \n",
              "\n",
              "  publication_date        publisher  \n",
              "0        9/16/2006  Scholastic Inc.  \n",
              "1         9/1/2004  Scholastic Inc.  \n",
              "2        11/1/2003       Scholastic  \n",
              "3         5/1/2004  Scholastic Inc.  \n",
              "4        9/13/2004       Scholastic  "
            ],
            "text/html": [
              "\n",
              "  <div id=\"df-527b8f40-0790-4dc4-a505-c3d0300cc2fa\" class=\"colab-df-container\">\n",
              "    <div>\n",
              "<style scoped>\n",
              "    .dataframe tbody tr th:only-of-type {\n",
              "        vertical-align: middle;\n",
              "    }\n",
              "\n",
              "    .dataframe tbody tr th {\n",
              "        vertical-align: top;\n",
              "    }\n",
              "\n",
              "    .dataframe thead th {\n",
              "        text-align: right;\n",
              "    }\n",
              "</style>\n",
              "<table border=\"1\" class=\"dataframe\">\n",
              "  <thead>\n",
              "    <tr style=\"text-align: right;\">\n",
              "      <th></th>\n",
              "      <th>bookID</th>\n",
              "      <th>title</th>\n",
              "      <th>authors</th>\n",
              "      <th>average_rating</th>\n",
              "      <th>isbn</th>\n",
              "      <th>isbn13</th>\n",
              "      <th>language_code</th>\n",
              "      <th>num_pages</th>\n",
              "      <th>ratings_count</th>\n",
              "      <th>text_reviews_count</th>\n",
              "      <th>publication_date</th>\n",
              "      <th>publisher</th>\n",
              "    </tr>\n",
              "  </thead>\n",
              "  <tbody>\n",
              "    <tr>\n",
              "      <th>0</th>\n",
              "      <td>1</td>\n",
              "      <td>Harry Potter and the Half-Blood Prince (Harry ...</td>\n",
              "      <td>J.K. Rowling/Mary GrandPré</td>\n",
              "      <td>4.57</td>\n",
              "      <td>0439785960</td>\n",
              "      <td>9780439785969</td>\n",
              "      <td>eng</td>\n",
              "      <td>652</td>\n",
              "      <td>2095690</td>\n",
              "      <td>27591</td>\n",
              "      <td>9/16/2006</td>\n",
              "      <td>Scholastic Inc.</td>\n",
              "    </tr>\n",
              "    <tr>\n",
              "      <th>1</th>\n",
              "      <td>2</td>\n",
              "      <td>Harry Potter and the Order of the Phoenix (Har...</td>\n",
              "      <td>J.K. Rowling/Mary GrandPré</td>\n",
              "      <td>4.49</td>\n",
              "      <td>0439358078</td>\n",
              "      <td>9780439358071</td>\n",
              "      <td>eng</td>\n",
              "      <td>870</td>\n",
              "      <td>2153167</td>\n",
              "      <td>29221</td>\n",
              "      <td>9/1/2004</td>\n",
              "      <td>Scholastic Inc.</td>\n",
              "    </tr>\n",
              "    <tr>\n",
              "      <th>2</th>\n",
              "      <td>4</td>\n",
              "      <td>Harry Potter and the Chamber of Secrets (Harry...</td>\n",
              "      <td>J.K. Rowling</td>\n",
              "      <td>4.42</td>\n",
              "      <td>0439554896</td>\n",
              "      <td>9780439554893</td>\n",
              "      <td>eng</td>\n",
              "      <td>352</td>\n",
              "      <td>6333</td>\n",
              "      <td>244</td>\n",
              "      <td>11/1/2003</td>\n",
              "      <td>Scholastic</td>\n",
              "    </tr>\n",
              "    <tr>\n",
              "      <th>3</th>\n",
              "      <td>5</td>\n",
              "      <td>Harry Potter and the Prisoner of Azkaban (Harr...</td>\n",
              "      <td>J.K. Rowling/Mary GrandPré</td>\n",
              "      <td>4.56</td>\n",
              "      <td>043965548X</td>\n",
              "      <td>9780439655484</td>\n",
              "      <td>eng</td>\n",
              "      <td>435</td>\n",
              "      <td>2339585</td>\n",
              "      <td>36325</td>\n",
              "      <td>5/1/2004</td>\n",
              "      <td>Scholastic Inc.</td>\n",
              "    </tr>\n",
              "    <tr>\n",
              "      <th>4</th>\n",
              "      <td>8</td>\n",
              "      <td>Harry Potter Boxed Set  Books 1-5 (Harry Potte...</td>\n",
              "      <td>J.K. Rowling/Mary GrandPré</td>\n",
              "      <td>4.78</td>\n",
              "      <td>0439682584</td>\n",
              "      <td>9780439682589</td>\n",
              "      <td>eng</td>\n",
              "      <td>2690</td>\n",
              "      <td>41428</td>\n",
              "      <td>164</td>\n",
              "      <td>9/13/2004</td>\n",
              "      <td>Scholastic</td>\n",
              "    </tr>\n",
              "  </tbody>\n",
              "</table>\n",
              "</div>\n",
              "    <div class=\"colab-df-buttons\">\n",
              "\n",
              "  <div class=\"colab-df-container\">\n",
              "    <button class=\"colab-df-convert\" onclick=\"convertToInteractive('df-527b8f40-0790-4dc4-a505-c3d0300cc2fa')\"\n",
              "            title=\"Convert this dataframe to an interactive table.\"\n",
              "            style=\"display:none;\">\n",
              "\n",
              "  <svg xmlns=\"http://www.w3.org/2000/svg\" height=\"24px\" viewBox=\"0 -960 960 960\">\n",
              "    <path d=\"M120-120v-720h720v720H120Zm60-500h600v-160H180v160Zm220 220h160v-160H400v160Zm0 220h160v-160H400v160ZM180-400h160v-160H180v160Zm440 0h160v-160H620v160ZM180-180h160v-160H180v160Zm440 0h160v-160H620v160Z\"/>\n",
              "  </svg>\n",
              "    </button>\n",
              "\n",
              "  <style>\n",
              "    .colab-df-container {\n",
              "      display:flex;\n",
              "      gap: 12px;\n",
              "    }\n",
              "\n",
              "    .colab-df-convert {\n",
              "      background-color: #E8F0FE;\n",
              "      border: none;\n",
              "      border-radius: 50%;\n",
              "      cursor: pointer;\n",
              "      display: none;\n",
              "      fill: #1967D2;\n",
              "      height: 32px;\n",
              "      padding: 0 0 0 0;\n",
              "      width: 32px;\n",
              "    }\n",
              "\n",
              "    .colab-df-convert:hover {\n",
              "      background-color: #E2EBFA;\n",
              "      box-shadow: 0px 1px 2px rgba(60, 64, 67, 0.3), 0px 1px 3px 1px rgba(60, 64, 67, 0.15);\n",
              "      fill: #174EA6;\n",
              "    }\n",
              "\n",
              "    .colab-df-buttons div {\n",
              "      margin-bottom: 4px;\n",
              "    }\n",
              "\n",
              "    [theme=dark] .colab-df-convert {\n",
              "      background-color: #3B4455;\n",
              "      fill: #D2E3FC;\n",
              "    }\n",
              "\n",
              "    [theme=dark] .colab-df-convert:hover {\n",
              "      background-color: #434B5C;\n",
              "      box-shadow: 0px 1px 3px 1px rgba(0, 0, 0, 0.15);\n",
              "      filter: drop-shadow(0px 1px 2px rgba(0, 0, 0, 0.3));\n",
              "      fill: #FFFFFF;\n",
              "    }\n",
              "  </style>\n",
              "\n",
              "    <script>\n",
              "      const buttonEl =\n",
              "        document.querySelector('#df-527b8f40-0790-4dc4-a505-c3d0300cc2fa button.colab-df-convert');\n",
              "      buttonEl.style.display =\n",
              "        google.colab.kernel.accessAllowed ? 'block' : 'none';\n",
              "\n",
              "      async function convertToInteractive(key) {\n",
              "        const element = document.querySelector('#df-527b8f40-0790-4dc4-a505-c3d0300cc2fa');\n",
              "        const dataTable =\n",
              "          await google.colab.kernel.invokeFunction('convertToInteractive',\n",
              "                                                    [key], {});\n",
              "        if (!dataTable) return;\n",
              "\n",
              "        const docLinkHtml = 'Like what you see? Visit the ' +\n",
              "          '<a target=\"_blank\" href=https://colab.research.google.com/notebooks/data_table.ipynb>data table notebook</a>'\n",
              "          + ' to learn more about interactive tables.';\n",
              "        element.innerHTML = '';\n",
              "        dataTable['output_type'] = 'display_data';\n",
              "        await google.colab.output.renderOutput(dataTable, element);\n",
              "        const docLink = document.createElement('div');\n",
              "        docLink.innerHTML = docLinkHtml;\n",
              "        element.appendChild(docLink);\n",
              "      }\n",
              "    </script>\n",
              "  </div>\n",
              "\n",
              "\n",
              "    <div id=\"df-136d9211-fee5-4000-92aa-0290732ad5e6\">\n",
              "      <button class=\"colab-df-quickchart\" onclick=\"quickchart('df-136d9211-fee5-4000-92aa-0290732ad5e6')\"\n",
              "                title=\"Suggest charts\"\n",
              "                style=\"display:none;\">\n",
              "\n",
              "<svg xmlns=\"http://www.w3.org/2000/svg\" height=\"24px\"viewBox=\"0 0 24 24\"\n",
              "     width=\"24px\">\n",
              "    <g>\n",
              "        <path d=\"M19 3H5c-1.1 0-2 .9-2 2v14c0 1.1.9 2 2 2h14c1.1 0 2-.9 2-2V5c0-1.1-.9-2-2-2zM9 17H7v-7h2v7zm4 0h-2V7h2v10zm4 0h-2v-4h2v4z\"/>\n",
              "    </g>\n",
              "</svg>\n",
              "      </button>\n",
              "\n",
              "<style>\n",
              "  .colab-df-quickchart {\n",
              "      --bg-color: #E8F0FE;\n",
              "      --fill-color: #1967D2;\n",
              "      --hover-bg-color: #E2EBFA;\n",
              "      --hover-fill-color: #174EA6;\n",
              "      --disabled-fill-color: #AAA;\n",
              "      --disabled-bg-color: #DDD;\n",
              "  }\n",
              "\n",
              "  [theme=dark] .colab-df-quickchart {\n",
              "      --bg-color: #3B4455;\n",
              "      --fill-color: #D2E3FC;\n",
              "      --hover-bg-color: #434B5C;\n",
              "      --hover-fill-color: #FFFFFF;\n",
              "      --disabled-bg-color: #3B4455;\n",
              "      --disabled-fill-color: #666;\n",
              "  }\n",
              "\n",
              "  .colab-df-quickchart {\n",
              "    background-color: var(--bg-color);\n",
              "    border: none;\n",
              "    border-radius: 50%;\n",
              "    cursor: pointer;\n",
              "    display: none;\n",
              "    fill: var(--fill-color);\n",
              "    height: 32px;\n",
              "    padding: 0;\n",
              "    width: 32px;\n",
              "  }\n",
              "\n",
              "  .colab-df-quickchart:hover {\n",
              "    background-color: var(--hover-bg-color);\n",
              "    box-shadow: 0 1px 2px rgba(60, 64, 67, 0.3), 0 1px 3px 1px rgba(60, 64, 67, 0.15);\n",
              "    fill: var(--button-hover-fill-color);\n",
              "  }\n",
              "\n",
              "  .colab-df-quickchart-complete:disabled,\n",
              "  .colab-df-quickchart-complete:disabled:hover {\n",
              "    background-color: var(--disabled-bg-color);\n",
              "    fill: var(--disabled-fill-color);\n",
              "    box-shadow: none;\n",
              "  }\n",
              "\n",
              "  .colab-df-spinner {\n",
              "    border: 2px solid var(--fill-color);\n",
              "    border-color: transparent;\n",
              "    border-bottom-color: var(--fill-color);\n",
              "    animation:\n",
              "      spin 1s steps(1) infinite;\n",
              "  }\n",
              "\n",
              "  @keyframes spin {\n",
              "    0% {\n",
              "      border-color: transparent;\n",
              "      border-bottom-color: var(--fill-color);\n",
              "      border-left-color: var(--fill-color);\n",
              "    }\n",
              "    20% {\n",
              "      border-color: transparent;\n",
              "      border-left-color: var(--fill-color);\n",
              "      border-top-color: var(--fill-color);\n",
              "    }\n",
              "    30% {\n",
              "      border-color: transparent;\n",
              "      border-left-color: var(--fill-color);\n",
              "      border-top-color: var(--fill-color);\n",
              "      border-right-color: var(--fill-color);\n",
              "    }\n",
              "    40% {\n",
              "      border-color: transparent;\n",
              "      border-right-color: var(--fill-color);\n",
              "      border-top-color: var(--fill-color);\n",
              "    }\n",
              "    60% {\n",
              "      border-color: transparent;\n",
              "      border-right-color: var(--fill-color);\n",
              "    }\n",
              "    80% {\n",
              "      border-color: transparent;\n",
              "      border-right-color: var(--fill-color);\n",
              "      border-bottom-color: var(--fill-color);\n",
              "    }\n",
              "    90% {\n",
              "      border-color: transparent;\n",
              "      border-bottom-color: var(--fill-color);\n",
              "    }\n",
              "  }\n",
              "</style>\n",
              "\n",
              "      <script>\n",
              "        async function quickchart(key) {\n",
              "          const quickchartButtonEl =\n",
              "            document.querySelector('#' + key + ' button');\n",
              "          quickchartButtonEl.disabled = true;  // To prevent multiple clicks.\n",
              "          quickchartButtonEl.classList.add('colab-df-spinner');\n",
              "          try {\n",
              "            const charts = await google.colab.kernel.invokeFunction(\n",
              "                'suggestCharts', [key], {});\n",
              "          } catch (error) {\n",
              "            console.error('Error during call to suggestCharts:', error);\n",
              "          }\n",
              "          quickchartButtonEl.classList.remove('colab-df-spinner');\n",
              "          quickchartButtonEl.classList.add('colab-df-quickchart-complete');\n",
              "        }\n",
              "        (() => {\n",
              "          let quickchartButtonEl =\n",
              "            document.querySelector('#df-136d9211-fee5-4000-92aa-0290732ad5e6 button');\n",
              "          quickchartButtonEl.style.display =\n",
              "            google.colab.kernel.accessAllowed ? 'block' : 'none';\n",
              "        })();\n",
              "      </script>\n",
              "    </div>\n",
              "\n",
              "    </div>\n",
              "  </div>\n"
            ],
            "application/vnd.google.colaboratory.intrinsic+json": {
              "type": "dataframe",
              "variable_name": "df_books",
              "summary": "{\n  \"name\": \"df_books\",\n  \"rows\": 11119,\n  \"fields\": [\n    {\n      \"column\": \"bookID\",\n      \"properties\": {\n        \"dtype\": \"number\",\n        \"std\": 13093,\n        \"min\": 1,\n        \"max\": 45641,\n        \"num_unique_values\": 11119,\n        \"samples\": [\n          6624,\n          12250,\n          16879\n        ],\n        \"semantic_type\": \"\",\n        \"description\": \"\"\n      }\n    },\n    {\n      \"column\": \"title\",\n      \"properties\": {\n        \"dtype\": \"string\",\n        \"num_unique_values\": 10344,\n        \"samples\": [\n          \"A Framework for Understanding Poverty\",\n          \"The Campfire Collection: Spine-tingling Tales to Tell in the Dark\",\n          \"Jarka Ruus (High Druid of Shannara  #1)\"\n        ],\n        \"semantic_type\": \"\",\n        \"description\": \"\"\n      }\n    },\n    {\n      \"column\": \"authors\",\n      \"properties\": {\n        \"dtype\": \"string\",\n        \"num_unique_values\": 6635,\n        \"samples\": [\n          \"Rumer Godden/Jean Primrose\",\n          \"John Lewis Gaddis\",\n          \"Vera John-Steiner\"\n        ],\n        \"semantic_type\": \"\",\n        \"description\": \"\"\n      }\n    },\n    {\n      \"column\": \"average_rating\",\n      \"properties\": {\n        \"dtype\": \"number\",\n        \"std\": 0.3503841672087902,\n        \"min\": 0.0,\n        \"max\": 5.0,\n        \"num_unique_values\": 209,\n        \"samples\": [\n          4.06,\n          3.18,\n          3.96\n        ],\n        \"semantic_type\": \"\",\n        \"description\": \"\"\n      }\n    },\n    {\n      \"column\": \"isbn\",\n      \"properties\": {\n        \"dtype\": \"string\",\n        \"num_unique_values\": 11119,\n        \"samples\": [\n          \"1401302424\",\n          \"0226469441\",\n          \"1400075122\"\n        ],\n        \"semantic_type\": \"\",\n        \"description\": \"\"\n      }\n    },\n    {\n      \"column\": \"isbn13\",\n      \"properties\": {\n        \"dtype\": \"number\",\n        \"std\": 443055354375,\n        \"min\": 8987059752,\n        \"max\": 9790007672386,\n        \"num_unique_values\": 11119,\n        \"samples\": [\n          9781401302429,\n          9780226469447,\n          9781400075126\n        ],\n        \"semantic_type\": \"\",\n        \"description\": \"\"\n      }\n    },\n    {\n      \"column\": \"language_code\",\n      \"properties\": {\n        \"dtype\": \"category\",\n        \"num_unique_values\": 27,\n        \"samples\": [\n          \"en-CA\",\n          \"zho\",\n          \"ger\"\n        ],\n        \"semantic_type\": \"\",\n        \"description\": \"\"\n      }\n    },\n    {\n      \"column\": \"  num_pages\",\n      \"properties\": {\n        \"dtype\": \"number\",\n        \"std\": 241,\n        \"min\": 0,\n        \"max\": 6576,\n        \"num_unique_values\": 997,\n        \"samples\": [\n          268,\n          795,\n          4\n        ],\n        \"semantic_type\": \"\",\n        \"description\": \"\"\n      }\n    },\n    {\n      \"column\": \"ratings_count\",\n      \"properties\": {\n        \"dtype\": \"number\",\n        \"std\": 112518,\n        \"min\": 0,\n        \"max\": 4597666,\n        \"num_unique_values\": 5293,\n        \"samples\": [\n          2883,\n          40629,\n          3760\n        ],\n        \"semantic_type\": \"\",\n        \"description\": \"\"\n      }\n    },\n    {\n      \"column\": \"text_reviews_count\",\n      \"properties\": {\n        \"dtype\": \"number\",\n        \"std\": 2577,\n        \"min\": 0,\n        \"max\": 94265,\n        \"num_unique_values\": 1822,\n        \"samples\": [\n          1607,\n          17547,\n          99\n        ],\n        \"semantic_type\": \"\",\n        \"description\": \"\"\n      }\n    },\n    {\n      \"column\": \"publication_date\",\n      \"properties\": {\n        \"dtype\": \"category\",\n        \"num_unique_values\": 3675,\n        \"samples\": [\n          \"6/15/1991\",\n          \"1/6/1973\",\n          \"10/28/1998\"\n        ],\n        \"semantic_type\": \"\",\n        \"description\": \"\"\n      }\n    },\n    {\n      \"column\": \"publisher\",\n      \"properties\": {\n        \"dtype\": \"category\",\n        \"num_unique_values\": 2289,\n        \"samples\": [\n          \"Morrow\",\n          \"Penguin Global\",\n          \"Tauris Parke Paperbacks\"\n        ],\n        \"semantic_type\": \"\",\n        \"description\": \"\"\n      }\n    }\n  ]\n}"
            }
          },
          "metadata": {},
          "execution_count": 20
        }
      ]
    },
    {
      "cell_type": "markdown",
      "source": [
        "Pada langkah ini, kami memuat dataset utama yaitu books.csv. Karena file ini diunggah langsung ke sesi Colab, tidak diperlukan koneksi ke Google Drive. Fungsi pd.read_csv() digunakan untuk membaca file CSV menjadi DataFrame Pandas. Setelah dimuat, kami menampilkan lima baris pertama dari DataFrame menggunakan .head() untuk mendapatkan gambaran awal tentang struktur dan isi datanya, termasuk kolom-kolom seperti ID, judul, penulis, penerbit, dan rating."
      ],
      "metadata": {
        "id": "1DE04w7hk110"
      }
    },
    {
      "cell_type": "code",
      "source": [
        "# Memeriksa statistik deskriptif dari kolom numerik di df_books\n",
        "print(\"\\nStatistik deskriptif df_books:\")\n",
        "print(df_books.describe())"
      ],
      "metadata": {
        "colab": {
          "base_uri": "https://localhost:8080/"
        },
        "id": "Ym4qT2l1isUT",
        "outputId": "28edca70-dac6-49cc-cbc2-51a3674f2f6f"
      },
      "execution_count": 21,
      "outputs": [
        {
          "output_type": "stream",
          "name": "stdout",
          "text": [
            "\n",
            "Statistik deskriptif df_books:\n",
            "             bookID  average_rating        isbn13     num_pages  \\\n",
            "count  11119.000000    11119.000000  1.111900e+04  11119.000000   \n",
            "mean   21308.966184        3.934135  9.759873e+12    336.439788   \n",
            "std    13093.071002        0.350384  4.430554e+11    241.177969   \n",
            "min        1.000000        0.000000  8.987060e+09      0.000000   \n",
            "25%    10277.500000        3.770000  9.780345e+12    192.000000   \n",
            "50%    20287.000000        3.960000  9.780586e+12    299.000000   \n",
            "75%    32103.500000        4.135000  9.780873e+12    416.000000   \n",
            "max    45641.000000        5.000000  9.790008e+12   6576.000000   \n",
            "\n",
            "       ratings_count  text_reviews_count  \n",
            "count   1.111900e+04        11119.000000  \n",
            "mean    1.794832e+04          542.167371  \n",
            "std     1.125190e+05         2577.069549  \n",
            "min     0.000000e+00            0.000000  \n",
            "25%     1.040000e+02            9.000000  \n",
            "50%     7.450000e+02           47.000000  \n",
            "75%     5.000500e+03          238.000000  \n",
            "max     4.597666e+06        94265.000000  \n"
          ]
        }
      ]
    },
    {
      "cell_type": "markdown",
      "source": [
        "Metode df.describe() memberikan ringkasan statistik deskriptif untuk kolom-kolom numerik dalam DataFrame. Ini mencakup hitungan (count), nilai rata-rata (mean), standar deviasi (std), nilai minimum (min), kuartil (25%, 50%, 75%), dan nilai maksimum (max). Dari output ini, kita bisa mendapatkan pemahaman awal tentang sebaran data, rentang nilai, dan potensi keberadaan outlier untuk kolom-kolom seperti average_rating, num_pages, atau original_publication_year."
      ],
      "metadata": {
        "id": "ovUjpewellFG"
      }
    },
    {
      "cell_type": "code",
      "source": [
        "print(df_books.columns)"
      ],
      "metadata": {
        "colab": {
          "base_uri": "https://localhost:8080/"
        },
        "id": "6Ou33ozNr6hU",
        "outputId": "75aad7d8-59e1-4ffb-cffc-9ad9f61f5d50"
      },
      "execution_count": 22,
      "outputs": [
        {
          "output_type": "stream",
          "name": "stdout",
          "text": [
            "Index(['bookID', 'title', 'authors', 'average_rating', 'isbn', 'isbn13',\n",
            "       'language_code', '  num_pages', 'ratings_count', 'text_reviews_count',\n",
            "       'publication_date', 'publisher'],\n",
            "      dtype='object')\n"
          ]
        }
      ]
    },
    {
      "cell_type": "code",
      "source": [
        "print(df_books.dtypes)"
      ],
      "metadata": {
        "colab": {
          "base_uri": "https://localhost:8080/"
        },
        "id": "ANRRov8KFMWL",
        "outputId": "df03bac3-fc2d-497b-8acc-62dbfcba321c"
      },
      "execution_count": 28,
      "outputs": [
        {
          "output_type": "stream",
          "name": "stdout",
          "text": [
            "bookID                  int64\n",
            "title                  object\n",
            "authors                object\n",
            "average_rating        float64\n",
            "isbn                   object\n",
            "isbn13                  int64\n",
            "language_code          object\n",
            "  num_pages             int64\n",
            "ratings_count           int64\n",
            "text_reviews_count      int64\n",
            "publication_date       object\n",
            "publisher              object\n",
            "dtype: object\n"
          ]
        }
      ]
    },
    {
      "cell_type": "code",
      "source": [
        "# Memeriksa jumlah missing values (NaN) per kolom di df_books\n",
        "print(\"\\nJumlah Missing Values di df_books:\")\n",
        "print(df_books.isnull().sum().sort_values(ascending=False))"
      ],
      "metadata": {
        "colab": {
          "base_uri": "https://localhost:8080/"
        },
        "id": "LYTfjBIsltbu",
        "outputId": "69dd33a8-7707-443e-9c4b-2310ae40f908"
      },
      "execution_count": 23,
      "outputs": [
        {
          "output_type": "stream",
          "name": "stdout",
          "text": [
            "\n",
            "Jumlah Missing Values di df_books:\n",
            "bookID                0\n",
            "title                 0\n",
            "authors               0\n",
            "average_rating        0\n",
            "isbn                  0\n",
            "isbn13                0\n",
            "language_code         0\n",
            "  num_pages           0\n",
            "ratings_count         0\n",
            "text_reviews_count    0\n",
            "publication_date      0\n",
            "publisher             0\n",
            "dtype: int64\n"
          ]
        }
      ]
    },
    {
      "cell_type": "markdown",
      "source": [
        "Kode ini digunakan untuk mengidentifikasi keberadaan missing values (nilai yang hilang atau null) di setiap kolom. isnull() akan menghasilkan DataFrame boolean (True untuk null, False untuk non-null), dan sum() akan menghitung jumlah True (yaitu, jumlah missing values) di setiap kolom. Hasilnya kemudian diurutkan menurun (sort_values(ascending=False)) untuk memudahkan identifikasi kolom mana yang paling banyak memiliki nilai hilang. Ini adalah langkah krusial untuk mengetahui kolom mana yang memerlukan penanganan missing values pada tahap Data Preprocessing."
      ],
      "metadata": {
        "id": "4s_ulYGumCPU"
      }
    },
    {
      "cell_type": "code",
      "source": [
        "# Memeriksa jumlah baris duplikat di df_books\n",
        "print(\"\\nJumlah Duplikasi di df_books:\", df_books.duplicated().sum())"
      ],
      "metadata": {
        "colab": {
          "base_uri": "https://localhost:8080/"
        },
        "id": "KOe7xRl5mHno",
        "outputId": "4277ee62-16a7-4f90-9967-3b10577ef2d8"
      },
      "execution_count": 24,
      "outputs": [
        {
          "output_type": "stream",
          "name": "stdout",
          "text": [
            "\n",
            "Jumlah Duplikasi di df_books: 0\n"
          ]
        }
      ]
    },
    {
      "cell_type": "markdown",
      "source": [
        "duplicated() akan mengembalikan Series boolean yang menandai baris duplikat (True jika duplikat). sum() kemudian menghitung total baris duplikat. Mengidentifikasi duplikasi penting untuk memastikan integritas data. Jika ada duplikasi, mereka perlu ditangani pada tahap Data Preprocessing untuk mencegah bias dalam analisis atau pemodelan."
      ],
      "metadata": {
        "id": "4NhVWkjkmUh_"
      }
    },
    {
      "cell_type": "code",
      "source": [
        "print(\"--- Kolom yang tersedia di df_books setelah Data Preprocessing selesai ---\")\n",
        "print(df_books.columns.tolist())\n",
        "print(\"--- Akhir daftar kolom ---\")"
      ],
      "metadata": {
        "colab": {
          "base_uri": "https://localhost:8080/"
        },
        "id": "O9DyEHgRMgHK",
        "outputId": "09aff27f-0469-44b9-de32-b37218ea09e9"
      },
      "execution_count": 37,
      "outputs": [
        {
          "output_type": "stream",
          "name": "stdout",
          "text": [
            "--- Kolom yang tersedia di df_books setelah Data Preprocessing selesai ---\n",
            "['bookID', 'title', 'authors', 'average_rating', 'language_code', '  num_pages', 'publisher', 'publication_year_cleaned', 'soup']\n",
            "--- Akhir daftar kolom ---\n"
          ]
        }
      ]
    },
    {
      "cell_type": "markdown",
      "source": [
        "### Temuan dan Analisis Data Understanding\n",
        "\n",
        "Berdasarkan eksplorasi awal dataset `books.csv`, beberapa poin penting telah teridentifikasi:\n",
        "-   **Jumlah Data:** Dataset terdiri dari [**Jumlah Baris dari df_books.info()**] baris dan [**Jumlah Kolom dari df_books.info()**] kolom.\n",
        "-   **Tipe Data:** Mayoritas kolom yang berisi informasi deskriptif buku (seperti judul, penulis, penerbit) bertipe `object` (string), sedangkan kolom seperti `average_rating`, `num_pages`, dan `original_publication_year` bertipe numerik.\n",
        "-   **Missing Values:** Terdapat `NaN` pada beberapa kolom, terutama [**Sebutkan 1-2 Kolom dengan Missing Values Paling Banyak dari output isnull().sum()**] dan [**Sebutkan 1-2 Kolom lainnya jika ada**]. Penanganan nilai-nilai ini akan menjadi fokus di tahap pra-pemrosesan.\n",
        "-   **Duplikasi:** Ditemukan [**Jumlah Duplikasi dari output duplicated().sum()**] baris duplikat dalam dataset. Duplikasi ini perlu dihapus untuk menjaga keunikan data.\n",
        "-   **Keterbatasan Data untuk CF:** Penting untuk dicatat bahwa dataset ini **tidak memiliki kolom `user_id` atau `individual_rating`** dari setiap pengguna. Ini berarti model **Collaborative Filtering tidak dapat diimplementasikan** dengan dataset ini karena tidak ada data interaksi pengguna-item yang eksplisit. Oleh karena itu, proyek ini akan berfokus sepenuhnya pada pengembangan sistem rekomendasi menggunakan pendekatan Content-based Filtering."
      ],
      "metadata": {
        "id": "QBhf0edcmlo3"
      }
    },
    {
      "cell_type": "code",
      "source": [
        "# --- Penanganan Missing Values dan Konversi Tipe Data untuk Numerik ---\n",
        "\n",
        "# Memeriksa jumlah missing values (NaN) per kolom sebelum penanganan\n",
        "print(\"Jumlah Missing Values di df_books (Sebelum Penanganan):\")\n",
        "print(df_books.isnull().sum().sort_values(ascending=False).head(10)) # Tampilkan top 10 kolom dengan missing values\n",
        "\n",
        "# Mengisi nilai NaN pada kolom 'authors' dan 'publisher' dengan string 'Unknown'.\n",
        "# Ini untuk kolom tekstual yang penting.\n",
        "df_books['authors'].fillna('Unknown', inplace=True)\n",
        "df_books['publisher'].fillna('Unknown', inplace=True)\n",
        "\n",
        "# MENGISI MISSING VALUES dan KONVERSI TIPE DATA UNTUK KOLOM NUMERIK\n",
        "# Fokus pada kolom yang sering bermasalah di EDA\n",
        "# 1. Kolom 'publication_year'\n",
        "print(\"\\nMemproses kolom 'publication_year'...\")\n",
        "if 'publication_year' in df_books.columns:\n",
        "    # Coba konversi ke numerik terlebih dahulu.\n",
        "    # 'errors='coerce'' akan mengubah semua nilai yang tidak bisa dikonversi menjadi NaN.\n",
        "    df_books['publication_year'] = pd.to_numeric(df_books['publication_year'], errors='coerce')\n",
        "\n",
        "    # Isi NaN dengan modus (nilai paling sering muncul).\n",
        "    # Ini penting karena setelah 'coerce', mungkin ada NaN baru dari data kotor.\n",
        "    # Pastikan modus tidak NaN. Jika seluruh kolom NaN, modus bisa NaN.\n",
        "    # Handle kasus jika mode() mengembalikan NaN atau Series kosong\n",
        "    if not df_books['publication_year'].mode().empty and not pd.isna(df_books['publication_year'].mode()[0]):\n",
        "        df_books['publication_year'].fillna(df_books['publication_year'].mode()[0], inplace=True)\n",
        "    else:\n",
        "        # Fallback jika modus tidak bisa ditemukan (misal kolom kosong semua)\n",
        "        df_books['publication_year'].fillna(0, inplace=True) # Isi dengan 0 atau nilai default lain yang masuk akal\n",
        "\n",
        "    # Konversi ke integer.\n",
        "    # Ini dapat menyebabkan error jika masih ada float (misal hasil mean/median) dan Anda ingin int murni.\n",
        "    # Gunakan .astype(int) HANYA JIKA Anda yakin tidak ada desimal.\n",
        "    # Jika Anda ingin menyimpan desimal, gunakan .astype(float)\n",
        "    df_books['publication_year'] = df_books['publication_year'].astype(int)\n",
        "    print(\"Kolom 'publication_year' berhasil diproses dan dikonversi ke integer.\")\n",
        "else:\n",
        "    print(\"Kolom 'publication_year' tidak ditemukan, dilewati.\")\n",
        "\n",
        "\n",
        "# 2. Kolom 'num_pages'\n",
        "print(\"\\nMemproses kolom 'num_pages'...\")\n",
        "if 'num_pages' in df_books.columns:\n",
        "    # Pertama, konversi ke numerik dan tangani non-numerik dengan coerce\n",
        "    df_books['num_pages'] = pd.to_numeric(df_books['num_pages'], errors='coerce')\n",
        "\n",
        "    # Identifikasi nilai yang akan digunakan untuk mengisi 0 atau NaN\n",
        "    # Hitung median hanya dari nilai num_pages yang > 0 (bukan 0 atau NaN)\n",
        "    median_valid_pages = df_books.loc[df_books['num_pages'] > 0, 'num_pages'].median()\n",
        "\n",
        "    # Jika median_valid_pages adalah NaN (misal semua num_pages adalah 0 atau NaN), gunakan fallback 100\n",
        "    if pd.isna(median_valid_pages):\n",
        "        median_valid_pages = 100 # Fallback default jika tidak ada halaman valid (>0)\n",
        "\n",
        "    # Mengisi NaN (dari coerce) DAN nilai 0 dengan median dari nilai valid\n",
        "    df_books.loc[df_books['num_pages'].isnull() | (df_books['num_pages'] == 0), 'num_pages'] = median_valid_pages\n",
        "\n",
        "    # Konversi ke integer setelah semua NaN dan 0 diisi\n",
        "    df_books['num_pages'] = df_books['num_pages'].astype(int)\n",
        "    print(\"Kolom 'num_pages' berhasil diproses, nilai 0 dan NaN diisi dengan median dari halaman valid, dan dikonversi ke integer.\")\n",
        "else:\n",
        "    print(\"Kolom 'num_pages' tidak ditemukan, dilewati.\")\n",
        "\n",
        "# Memeriksa kembali jumlah missing values setelah penanganan\n",
        "print(\"\\nJumlah Missing Values di df_books (Setelah Penanganan Tipe Data):\")\n",
        "print(df_books.isnull().sum().sum())\n",
        "print(\"\\nInformasi Tipe Data df_books setelah Preprocessing:\")\n",
        "df_books.info()\n",
        "\n",
        "# --- Lanjutkan dengan penanganan duplikasi dan penghapusan kolom tidak relevan (sesuai panduan sebelumnya) ---\n",
        "# df_books.drop_duplicates(inplace=True)\n",
        "# ... (lanjutan kode preprocessing yang sudah Anda miliki)"
      ],
      "metadata": {
        "colab": {
          "base_uri": "https://localhost:8080/"
        },
        "id": "OzRgfJUgCpoy",
        "outputId": "39cf8f6e-7464-425e-babf-29feebc4b608"
      },
      "execution_count": 27,
      "outputs": [
        {
          "output_type": "stream",
          "name": "stdout",
          "text": [
            "Jumlah Missing Values di df_books (Sebelum Penanganan):\n",
            "bookID                0\n",
            "title                 0\n",
            "authors               0\n",
            "average_rating        0\n",
            "isbn                  0\n",
            "isbn13                0\n",
            "language_code         0\n",
            "  num_pages           0\n",
            "ratings_count         0\n",
            "text_reviews_count    0\n",
            "dtype: int64\n",
            "\n",
            "Memproses kolom 'publication_year'...\n",
            "Kolom 'publication_year' tidak ditemukan, dilewati.\n",
            "\n",
            "Memproses kolom 'num_pages'...\n",
            "Kolom 'num_pages' tidak ditemukan, dilewati.\n",
            "\n",
            "Jumlah Missing Values di df_books (Setelah Penanganan Tipe Data):\n",
            "0\n",
            "\n",
            "Informasi Tipe Data df_books setelah Preprocessing:\n",
            "<class 'pandas.core.frame.DataFrame'>\n",
            "RangeIndex: 11119 entries, 0 to 11118\n",
            "Data columns (total 12 columns):\n",
            " #   Column              Non-Null Count  Dtype  \n",
            "---  ------              --------------  -----  \n",
            " 0   bookID              11119 non-null  int64  \n",
            " 1   title               11119 non-null  object \n",
            " 2   authors             11119 non-null  object \n",
            " 3   average_rating      11119 non-null  float64\n",
            " 4   isbn                11119 non-null  object \n",
            " 5   isbn13              11119 non-null  int64  \n",
            " 6   language_code       11119 non-null  object \n",
            " 7     num_pages         11119 non-null  int64  \n",
            " 8   ratings_count       11119 non-null  int64  \n",
            " 9   text_reviews_count  11119 non-null  int64  \n",
            " 10  publication_date    11119 non-null  object \n",
            " 11  publisher           11119 non-null  object \n",
            "dtypes: float64(1), int64(5), object(6)\n",
            "memory usage: 1.0+ MB\n"
          ]
        },
        {
          "output_type": "stream",
          "name": "stderr",
          "text": [
            "<ipython-input-27-2246141634>:9: FutureWarning: A value is trying to be set on a copy of a DataFrame or Series through chained assignment using an inplace method.\n",
            "The behavior will change in pandas 3.0. This inplace method will never work because the intermediate object on which we are setting values always behaves as a copy.\n",
            "\n",
            "For example, when doing 'df[col].method(value, inplace=True)', try using 'df.method({col: value}, inplace=True)' or df[col] = df[col].method(value) instead, to perform the operation inplace on the original object.\n",
            "\n",
            "\n",
            "  df_books['authors'].fillna('Unknown', inplace=True)\n",
            "<ipython-input-27-2246141634>:10: FutureWarning: A value is trying to be set on a copy of a DataFrame or Series through chained assignment using an inplace method.\n",
            "The behavior will change in pandas 3.0. This inplace method will never work because the intermediate object on which we are setting values always behaves as a copy.\n",
            "\n",
            "For example, when doing 'df[col].method(value, inplace=True)', try using 'df.method({col: value}, inplace=True)' or df[col] = df[col].method(value) instead, to perform the operation inplace on the original object.\n",
            "\n",
            "\n",
            "  df_books['publisher'].fillna('Unknown', inplace=True)\n"
          ]
        }
      ]
    },
    {
      "cell_type": "markdown",
      "source": [
        "## Univariate Exploratory Data Analysis (EDA)"
      ],
      "metadata": {
        "id": "k-WD1SsbmzzJ"
      }
    },
    {
      "cell_type": "markdown",
      "source": [
        "\n",
        "Pada tahap ini, kami akan melakukan analisis dan eksplorasi terhadap setiap variabel secara individual pada dataset `df_books` untuk memahami distribusi dan karakteristiknya. Ini akan memberikan *insight* awal yang berharga tentang pola data dan potensi masalah yang mungkin perlu ditangani pada tahap pra-pemrosesan data selanjutnya, serta memahami fitur-fitur yang akan digunakan dalam Content-based Filtering."
      ],
      "metadata": {
        "id": "Xt1aSd5GoEeC"
      }
    },
    {
      "cell_type": "code",
      "source": [
        "import matplotlib.pyplot as plt\n",
        "import seaborn as sns\n",
        "\n",
        "# --- EDA untuk df_books ---\n",
        "\n",
        "# Pastikan df_books sudah dimuat dengan benar dari books.csv\n",
        "# Contoh:\n",
        "# df_books = pd.read_csv('books.csv')\n",
        "\n",
        "# Cek kolom yang tersedia di df_books untuk debugging (opsional, bisa dihapus setelah tidak ada error)\n",
        "# print(\"Kolom yang tersedia di df_books saat ini:\", df_books.columns.tolist()) # Removed debug print\n",
        "\n",
        "# Visualisasi distribusi 'average_rating' pada df_books\n",
        "# Kolom 'average_rating' adalah indikator utama kualitas buku.\n",
        "# Histogram dengan KDE (Kernel Density Estimate) akan menunjukkan sebaran peringkat rata-rata buku di dataset.\n",
        "plt.figure(figsize=(10, 6))\n",
        "sns.histplot(df_books['average_rating'], bins=30, kde=True, color='skyblue')\n",
        "plt.title('Distribusi Rata-rata Peringkat Buku', fontsize=16)\n",
        "plt.xlabel('Rata-rata Peringkat', fontsize=12)\n",
        "plt.ylabel('Jumlah Buku', fontsize=12)\n",
        "plt.grid(axis='y', linestyle='--', alpha=0.7)\n",
        "plt.xticks(fontsize=10)\n",
        "plt.yticks(fontsize=10)\n",
        "plt.tight_layout()\n",
        "plt.show()\n",
        "\n",
        "# Menampilkan 10 penulis dengan buku terbanyak\n",
        "# Ini membantu mengidentifikasi penulis paling produktif atau populer dalam dataset.\n",
        "# Menggunakan 'authors' sesuai dengan nama kolom yang terlihat di info()\n",
        "print(\"\\n10 Penulis dengan Buku Terbanyak:\")\n",
        "print(df_books['authors'].value_counts().head(10))\n",
        "\n",
        "# Menampilkan 10 penerbit dengan buku terbanyak\n",
        "# Ini membantu mengidentifikasi penerbit dengan kontribusi terbanyak di dataset.\n",
        "# Menggunakan 'publisher' sesuai dengan nama kolom yang terlihat di info()\n",
        "print(\"\\n10 Penerbit dengan Buku Terbanyak:\")\n",
        "print(df_books['publisher'].value_counts().head(10))\n",
        "\n",
        "# Visualisasi distribusi 'language_code' (kode bahasa)\n",
        "# Ini menunjukkan sebaran bahasa buku dalam dataset, yang relevan untuk fitur konten.\n",
        "# Menggunakan 'language_code' sesuai dengan nama kolom yang terlihat di info()\n",
        "plt.figure(figsize=(12, 7))\n",
        "sns.countplot(y='language_code', data=df_books, order=df_books['language_code'].value_counts().index, palette='viridis')\n",
        "plt.title('Distribusi Kode Bahasa Buku', fontsize=16)\n",
        "plt.xlabel('Jumlah Buku', fontsize=12)\n",
        "plt.ylabel('Kode Bahasa', fontsize=12)\n",
        "plt.grid(axis='x', linestyle='--', alpha=0.7)\n",
        "plt.xticks(fontsize=10)\n",
        "plt.yticks(fontsize=10)\n",
        "plt.tight_layout()\n",
        "plt.show()\n",
        "\n",
        "# Visualisasi distribusi 'num_pages' (jumlah halaman)\n",
        "# Ini memberikan gambaran tentang ketebalan buku di dataset.\n",
        "# Menggunakan ' num_pages' with leading spaces as identified in previous output\n",
        "plt.figure(figsize=(10, 6))\n",
        "sns.histplot(df_books['  num_pages'], bins=50, kde=True, color='lightcoral')\n",
        "plt.title('Distribusi Jumlah Halaman Buku', fontsize=16)\n",
        "plt.xlabel('Jumlah Halaman', fontsize=12)\n",
        "plt.ylabel('Jumlah Buku', fontsize=12)\n",
        "plt.grid(axis='y', linestyle='--', alpha=0.7)\n",
        "plt.xticks(fontsize=10)\n",
        "plt.yticks(fontsize=10)\n",
        "plt.tight_layout()\n",
        "plt.show()\n",
        "\n",
        "# Visualisasi distribusi 'publication_year' (tahun publikasi)\n",
        "# Tambahan, karena ini juga merupakan kolom numerik penting.\n",
        "# Menggunakan 'publication_date' as identified in the dataframe info\n",
        "plt.figure(figsize=(10, 6))\n",
        "sns.histplot(df_books['publication_date'], bins=40, kde=True, color='mediumseagreen')\n",
        "plt.title('Distribusi Tahun Publikasi Buku', fontsize=16)\n",
        "plt.xlabel('Tahun Publikasi', fontsize=12)\n",
        "plt.ylabel('Jumlah Buku', fontsize=12)\n",
        "plt.grid(axis='y', linestyle='--', alpha=0.7)\n",
        "plt.xticks(fontsize=10)\n",
        "plt.yticks(fontsize=10)\n",
        "plt.tight_layout()\n",
        "plt.show()"
      ],
      "metadata": {
        "colab": {
          "base_uri": "https://localhost:8080/",
          "height": 1000
        },
        "id": "VMF_LYH7-Pcb",
        "outputId": "339e2857-187c-4e92-a8b8-cf8311fa2d6d"
      },
      "execution_count": 30,
      "outputs": [
        {
          "output_type": "display_data",
          "data": {
            "text/plain": [
              "<Figure size 1000x600 with 1 Axes>"
            ],
            "image/png": "[encoded data removed]"
          },
          "metadata": {}
        },
        {
          "output_type": "stream",
          "name": "stdout",
          "text": [
            "\n",
            "10 Penulis dengan Buku Terbanyak:\n",
            "authors\n",
            "Stephen King           40\n",
            "P.G. Wodehouse         40\n",
            "Rumiko Takahashi       39\n",
            "Orson Scott Card       35\n",
            "Agatha Christie        33\n",
            "Piers Anthony          30\n",
            "Sandra Brown           29\n",
            "Mercedes Lackey        29\n",
            "Dick Francis           28\n",
            "Laurell K. Hamilton    23\n",
            "Name: count, dtype: int64\n",
            "\n",
            "10 Penerbit dengan Buku Terbanyak:\n",
            "publisher\n",
            "Vintage             318\n",
            "Penguin Books       261\n",
            "Penguin Classics    184\n",
            "Mariner Books       150\n",
            "Ballantine Books    144\n",
            "Harper Perennial    112\n",
            "HarperCollins       112\n",
            "Pocket Books        111\n",
            "Bantam              110\n",
            "VIZ Media LLC        88\n",
            "Name: count, dtype: int64\n"
          ]
        },
        {
          "output_type": "stream",
          "name": "stderr",
          "text": [
            "<ipython-input-30-69692368>:43: FutureWarning: \n",
            "\n",
            "Passing `palette` without assigning `hue` is deprecated and will be removed in v0.14.0. Assign the `y` variable to `hue` and set `legend=False` for the same effect.\n",
            "\n",
            "  sns.countplot(y='language_code', data=df_books, order=df_books['language_code'].value_counts().index, palette='viridis')\n"
          ]
        },
        {
          "output_type": "display_data",
          "data": {
            "text/plain": [
              "<Figure size 1200x700 with 1 Axes>"
            ],
            "image/png": "[encoded data removed]"
          },
          "metadata": {}
        },
        {
          "output_type": "display_data",
          "data": {
            "text/plain": [
              "<Figure size 1000x600 with 1 Axes>"
            ],
            "image/png": "[encoded data removed]"
          },
          "metadata": {}
        },
        {
          "output_type": "display_data",
          "data": {
            "text/plain": [
              "<Figure size 1000x600 with 1 Axes>"
            ],
            "image/png": "[encoded data removed]"
          },
          "metadata": {}
        }
      ]
    },
    {
      "cell_type": "markdown",
      "source": [
        "Penjelasan Kode (EDA untuk df_books):\n",
        "Pada bagian ini, kami melakukan analisis eksplorasi data univariat untuk DataFrame df_books untuk memahami karakteristik setiap kolom secara mendalam:\n",
        "\n",
        "Distribusi Rata-rata Peringkat (average_rating): Kami membuat histogram dengan KDE (Kernel Density Estimate) untuk memvisualisasikan sebaran rata-rata peringkat buku. Ini membantu kita melihat pola rating buku, misalnya apakah peringkat cenderung tinggi atau tersebar merata.\n",
        "Penulis dan Penerbit Teratas: Kami menggunakan value_counts().head(10) untuk mengidentifikasi 10 penulis dan penerbit yang paling banyak muncul dalam dataset. Informasi ini dapat memberikan insight tentang entitas paling produktif atau populer yang akan menjadi fitur penting dalam Content-based Filtering.\n",
        "Distribusi Kode Bahasa (language_code): Count plot digunakan untuk menunjukkan frekuensi kemunculan setiap kode bahasa buku. Ini mengungkapkan bahasa apa saja yang dominan dalam koleksi buku, yang juga akan menjadi fitur konten.\n",
        "Distribusi Jumlah Halaman (num_pages): Histogram dari kolom num_pages menunjukkan sebaran ketebalan buku di dataset. Ini memberikan gambaran tentang variasi panjang buku.\n",
        "Visualisasi dan statistik ini penting untuk mendapatkan pemahaman intuitif tentang karakteristik data buku, yang akan menjadi dasar untuk langkah-langkah pra-pemrosesan dan pembuatan fitur untuk Content-based Filtering."
      ],
      "metadata": {
        "id": "u3zLe4dRob82"
      }
    },
    {
      "cell_type": "markdown",
      "source": [
        "## Data Preprocessing\n"
      ],
      "metadata": {
        "id": "Bdm0-PaLAqYz"
      }
    },
    {
      "cell_type": "markdown",
      "source": [
        "\n",
        "Tahap Data Preprocessing adalah langkah krusial untuk membersihkan dan menyiapkan data sebelum digunakan dalam pemodelan. Tujuan utama pada bagian ini adalah:\n",
        "1.  **Penanganan Missing Values:** Mengisi atau menghapus nilai-nilai yang hilang untuk memastikan kelengkapan data. Ini akan melibatkan konversi tipe data yang akurat untuk kolom numerik dan tanggal.\n",
        "2.  **Penanganan Duplikasi:** Mengidentifikasi dan menghapus entri-entri duplikat untuk menjaga integritas data dan mencegah bias.\n",
        "3.  **Menghapus Kolom Tidak Relevan/Redundan:** Menghilangkan kolom yang tidak diperlukan untuk sistem rekomendasi berbasis konten.\n",
        "\n",
        "Langkah-langkah ini sangat penting untuk memastikan kualitas data yang optimal bagi pembangunan sistem rekomendasi yang akurat dan efisien."
      ],
      "metadata": {
        "id": "ljtcy7omAx7M"
      }
    },
    {
      "cell_type": "code",
      "source": [
        "# --- Penanganan Missing Values dan Konversi Tipe Data untuk Numerik/Tanggal ---\n",
        "\n",
        "# Memeriksa jumlah missing values (NaN) per kolom sebelum penanganan\n",
        "print(\"Jumlah Missing Values di df_books (Sebelum Penanganan):\")\n",
        "print(df_books.isnull().sum().sort_values(ascending=False).head(10)) # Tampilkan top 10 kolom dengan missing values\n",
        "\n",
        "# Mengisi nilai NaN pada kolom 'authors' dan 'publisher' dengan string 'Unknown'.\n",
        "# Ini untuk kolom tekstual yang penting.\n",
        "df_books['authors'].fillna('Unknown', inplace=True)\n",
        "df_books['publisher'].fillna('Unknown', inplace=True)\n",
        "\n",
        "# MENGISI MISSING VALUES dan KONVERSI TIPE DATA UNTUK KOLOM NUMERIK/TANGGAL\n",
        "# Fokus pada kolom yang sering bermasalah di EDA\n",
        "\n",
        "# 1. Menangani Kolom Tahun Publikasi (bisa 'publication_year' atau 'publication_date')\n",
        "print(\"\\nMemproses kolom tahun/tanggal publikasi...\")\n",
        "target_pub_column = None\n",
        "if 'publication_year' in df_books.columns:\n",
        "    target_pub_column = 'publication_year'\n",
        "elif 'publication_date' in df_books.columns: # Jika nama kolomnya memang 'publication_date'\n",
        "    target_pub_column = 'publication_date'\n",
        "else:\n",
        "    print(\"Kolom tahun/tanggal publikasi (publication_year atau publication_date) tidak ditemukan. Tidak ada pembersihan tahun publikasi.\")\n",
        "\n",
        "if target_pub_column:\n",
        "    try:\n",
        "        # Mencoba mengkonversi ke datetime, errors='coerce' akan mengubah yang gagal menjadi NaT (Not a Time)\n",
        "        df_books[target_pub_column] = pd.to_datetime(df_books[target_pub_column], errors='coerce')\n",
        "\n",
        "        # Mengisi nilai NaT (NaN untuk datetime) dengan tanggal modus\n",
        "        if not df_books[target_pub_column].mode().empty and not pd.isna(df_books[target_pub_column].mode()[0]):\n",
        "            df_books[target_pub_column].fillna(df_books[target_pub_column].mode()[0], inplace=True)\n",
        "        else:\n",
        "            df_books[target_pub_column].fillna(pd.to_datetime('2000-01-01'), inplace=True) # Fallback jika modus tidak valid\n",
        "\n",
        "        # Ekstrak tahun dari kolom tanggal dan simpan ke kolom baru 'publication_year_cleaned'\n",
        "        df_books['publication_year_cleaned'] = df_books[target_pub_column].dt.year\n",
        "        print(f\"Kolom '{target_pub_column}' berhasil diproses. Tahun diekstrak ke 'publication_year_cleaned'.\")\n",
        "    except Exception as e:\n",
        "        print(f\"Gagal memproses kolom '{target_pub_column}': {e}\")\n",
        "        df_books['publication_year_cleaned'] = 0 # Fallback jika konversi gagal total\n",
        "\n",
        "# 2. Kolom 'num_pages'\n",
        "print(\"\\nMemproses kolom 'num_pages'...\")\n",
        "if 'num_pages' in df_books.columns:\n",
        "    df_books['num_pages'] = pd.to_numeric(df_books['num_pages'], errors='coerce')\n",
        "    df_books['num_pages'].fillna(df_books['num_pages'].median(), inplace=True)\n",
        "    df_books['num_pages'] = df_books['num_pages'].astype(int)\n",
        "    print(\"Kolom 'num_pages' berhasil diproses dan dikonversi ke integer.\")\n",
        "else:\n",
        "    print(\"Kolom 'num_pages' tidak ditemukan, dilewati.\")\n",
        "\n",
        "# 3. Kolom 'average_rating'\n",
        "print(\"\\nMemproses kolom 'average_rating'...\")\n",
        "if 'average_rating' in df_books.columns:\n",
        "    df_books['average_rating'] = pd.to_numeric(df_books['average_rating'], errors='coerce')\n",
        "    df_books['average_rating'].fillna(df_books['average_rating'].mean(), inplace=True)\n",
        "    df_books['average_rating'] = df_books['average_rating'].astype(float) # Pastikan tetap float\n",
        "    print(\"Kolom 'average_rating' berhasil diproses dan dikonversi ke float.\")\n",
        "else:\n",
        "    print(\"Kolom 'average_rating' tidak ditemukan, dilewati.\")\n",
        "\n",
        "# --- Penanganan Duplikasi ---\n",
        "# Memeriksa jumlah duplikasi baris pada df_books\n",
        "print(\"\\nJumlah Duplikasi di df_books (Sebelum Penanganan):\", df_books.duplicated().sum())\n",
        "\n",
        "if df_books.duplicated().sum() > 0:\n",
        "    df_books.drop_duplicates(inplace=True)\n",
        "    print(\"Duplikasi telah dihapus. Jumlah Duplikasi sekarang:\", df_books.duplicated().sum())\n",
        "else:\n",
        "    print(\"Tidak ada duplikasi ditemukan.\")\n",
        "\n",
        "# --- Penghapusan Kolom Tidak Relevan (Opsional) ---\n",
        "# Tinjau kolom-kolom di dataset Anda dan putuskan mana yang tidak relevan\n",
        "# untuk sistem rekomendasi berbasis konten atau yang redundan setelah pembersihan.\n",
        "# Contoh: 'isbn', 'isbn13', 'ratings_count', 'text_reviews_count', 'publication_date'\n",
        "# 'Id' juga bisa dihapus jika Anda tidak akan menggunakannya setelah membuat indeks.\n",
        "# 'publication_year' (kolom asli) juga bisa dihapus jika sudah ada 'publication_year_cleaned'\n",
        "\n",
        "# Kumpulkan semua kolom yang mungkin tidak relevan atau redundan\n",
        "irrelevant_columns = ['isbn', 'isbn13', 'ratings_count', 'text_reviews_count']\n",
        "if 'publication_date' in df_books.columns and 'publication_year_cleaned' in df_books.columns:\n",
        "    # Hapus kolom tanggal asli jika tahun sudah diekstrak ke kolom cleaned baru\n",
        "    irrelevant_columns.append('publication_date')\n",
        "elif 'publication_year' in df_books.columns and 'publication_year_cleaned' in df_books.columns and df_books['publication_year'].dtype != int:\n",
        "    # Hapus kolom tahun asli jika sudah diganti dengan cleaned dan tipe datanya bermasalah\n",
        "    irrelevant_columns.append('publication_year')\n",
        "\n",
        "\n",
        "print(\"\\nMencoba menghapus kolom tidak relevan:\")\n",
        "for col in irrelevant_columns:\n",
        "    if col in df_books.columns:\n",
        "        df_books.drop(col, axis=1, inplace=True)\n",
        "        print(f\"Kolom '{col}' dihapus.\")\n",
        "    else:\n",
        "        print(f\"Kolom '{col}' tidak ditemukan, dilewati.\")\n",
        "\n",
        "\n",
        "# Menampilkan informasi akhir dari df_books setelah semua proses preprocessing\n",
        "print(\"\\nInformasi df_books setelah selesai Preprocessing:\")\n",
        "df_books.info()\n",
        "print(\"\\n5 baris pertama df_books setelah selesai Preprocessing:\")\n",
        "print(df_books.head())"
      ],
      "metadata": {
        "colab": {
          "base_uri": "https://localhost:8080/"
        },
        "id": "x1e6aKg8AwMI",
        "outputId": "53d22757-4b33-490f-a50a-a556c364b28f"
      },
      "execution_count": 31,
      "outputs": [
        {
          "output_type": "stream",
          "name": "stdout",
          "text": [
            "Jumlah Missing Values di df_books (Sebelum Penanganan):\n",
            "bookID                0\n",
            "title                 0\n",
            "authors               0\n",
            "average_rating        0\n",
            "isbn                  0\n",
            "isbn13                0\n",
            "language_code         0\n",
            "  num_pages           0\n",
            "ratings_count         0\n",
            "text_reviews_count    0\n",
            "dtype: int64\n",
            "\n",
            "Memproses kolom tahun/tanggal publikasi...\n",
            "Kolom 'publication_date' berhasil diproses. Tahun diekstrak ke 'publication_year_cleaned'.\n",
            "\n",
            "Memproses kolom 'num_pages'...\n",
            "Kolom 'num_pages' tidak ditemukan, dilewati.\n",
            "\n",
            "Memproses kolom 'average_rating'...\n",
            "Kolom 'average_rating' berhasil diproses dan dikonversi ke float.\n",
            "\n",
            "Jumlah Duplikasi di df_books (Sebelum Penanganan): 0\n",
            "Tidak ada duplikasi ditemukan.\n",
            "\n",
            "Mencoba menghapus kolom tidak relevan:\n",
            "Kolom 'isbn' dihapus.\n",
            "Kolom 'isbn13' dihapus.\n",
            "Kolom 'ratings_count' dihapus.\n",
            "Kolom 'text_reviews_count' dihapus.\n",
            "Kolom 'publication_date' dihapus.\n",
            "\n",
            "Informasi df_books setelah selesai Preprocessing:\n",
            "<class 'pandas.core.frame.DataFrame'>\n",
            "RangeIndex: 11119 entries, 0 to 11118\n",
            "Data columns (total 8 columns):\n",
            " #   Column                    Non-Null Count  Dtype  \n",
            "---  ------                    --------------  -----  \n",
            " 0   bookID                    11119 non-null  int64  \n",
            " 1   title                     11119 non-null  object \n",
            " 2   authors                   11119 non-null  object \n",
            " 3   average_rating            11119 non-null  float64\n",
            " 4   language_code             11119 non-null  object \n",
            " 5     num_pages               11119 non-null  int64  \n",
            " 6   publisher                 11119 non-null  object \n",
            " 7   publication_year_cleaned  11119 non-null  int32  \n",
            "dtypes: float64(1), int32(1), int64(2), object(4)\n",
            "memory usage: 651.6+ KB\n",
            "\n",
            "5 baris pertama df_books setelah selesai Preprocessing:\n",
            "   bookID                                              title  \\\n",
            "0       1  Harry Potter and the Half-Blood Prince (Harry ...   \n",
            "1       2  Harry Potter and the Order of the Phoenix (Har...   \n",
            "2       4  Harry Potter and the Chamber of Secrets (Harry...   \n",
            "3       5  Harry Potter and the Prisoner of Azkaban (Harr...   \n",
            "4       8  Harry Potter Boxed Set  Books 1-5 (Harry Potte...   \n",
            "\n",
            "                      authors  average_rating language_code    num_pages  \\\n",
            "0  J.K. Rowling/Mary GrandPré            4.57           eng          652   \n",
            "1  J.K. Rowling/Mary GrandPré            4.49           eng          870   \n",
            "2                J.K. Rowling            4.42           eng          352   \n",
            "3  J.K. Rowling/Mary GrandPré            4.56           eng          435   \n",
            "4  J.K. Rowling/Mary GrandPré            4.78           eng         2690   \n",
            "\n",
            "         publisher  publication_year_cleaned  \n",
            "0  Scholastic Inc.                      2006  \n",
            "1  Scholastic Inc.                      2004  \n",
            "2       Scholastic                      2003  \n",
            "3  Scholastic Inc.                      2004  \n",
            "4       Scholastic                      2004  \n"
          ]
        },
        {
          "output_type": "stream",
          "name": "stderr",
          "text": [
            "<ipython-input-31-4162953790>:9: FutureWarning: A value is trying to be set on a copy of a DataFrame or Series through chained assignment using an inplace method.\n",
            "The behavior will change in pandas 3.0. This inplace method will never work because the intermediate object on which we are setting values always behaves as a copy.\n",
            "\n",
            "For example, when doing 'df[col].method(value, inplace=True)', try using 'df.method({col: value}, inplace=True)' or df[col] = df[col].method(value) instead, to perform the operation inplace on the original object.\n",
            "\n",
            "\n",
            "  df_books['authors'].fillna('Unknown', inplace=True)\n",
            "<ipython-input-31-4162953790>:10: FutureWarning: A value is trying to be set on a copy of a DataFrame or Series through chained assignment using an inplace method.\n",
            "The behavior will change in pandas 3.0. This inplace method will never work because the intermediate object on which we are setting values always behaves as a copy.\n",
            "\n",
            "For example, when doing 'df[col].method(value, inplace=True)', try using 'df.method({col: value}, inplace=True)' or df[col] = df[col].method(value) instead, to perform the operation inplace on the original object.\n",
            "\n",
            "\n",
            "  df_books['publisher'].fillna('Unknown', inplace=True)\n",
            "<ipython-input-31-4162953790>:32: FutureWarning: A value is trying to be set on a copy of a DataFrame or Series through chained assignment using an inplace method.\n",
            "The behavior will change in pandas 3.0. This inplace method will never work because the intermediate object on which we are setting values always behaves as a copy.\n",
            "\n",
            "For example, when doing 'df[col].method(value, inplace=True)', try using 'df.method({col: value}, inplace=True)' or df[col] = df[col].method(value) instead, to perform the operation inplace on the original object.\n",
            "\n",
            "\n",
            "  df_books[target_pub_column].fillna(df_books[target_pub_column].mode()[0], inplace=True)\n",
            "<ipython-input-31-4162953790>:57: FutureWarning: A value is trying to be set on a copy of a DataFrame or Series through chained assignment using an inplace method.\n",
            "The behavior will change in pandas 3.0. This inplace method will never work because the intermediate object on which we are setting values always behaves as a copy.\n",
            "\n",
            "For example, when doing 'df[col].method(value, inplace=True)', try using 'df.method({col: value}, inplace=True)' or df[col] = df[col].method(value) instead, to perform the operation inplace on the original object.\n",
            "\n",
            "\n",
            "  df_books['average_rating'].fillna(df_books['average_rating'].mean(), inplace=True)\n"
          ]
        }
      ]
    },
    {
      "cell_type": "markdown",
      "source": [
        "### Analisis Proses Data Preprocessing\n",
        "\n",
        "Proses Data Preprocessing telah berhasil membersihkan dan menyiapkan data dari `books.csv` untuk tahapan selanjutnya.\n",
        "\n",
        "1.  **Penanganan Missing Values & Konversi Tipe Data:**\n",
        "    * Kolom `authors` dan `publisher` yang memiliki nilai `NaN` telah diisi dengan string `'Unknown'`.\n",
        "    * Kolom `publication_year` (atau `publication_date`) telah dikonversi ke format tanggal/numerik yang tepat, dan tahunnya diekstrak ke kolom baru `publication_year_cleaned`, serta nilai `NaN` diisi.\n",
        "    * Kolom `num_pages` dan `average_rating` juga telah dibersihkan dari nilai non-numerik dan `NaN`, serta dikonversi ke tipe data numerik yang sesuai.\n",
        "    * Setelah penanganan, total *missing values* di seluruh DataFrame telah berkurang secara signifikan atau bahkan hilang sepenuhnya, menunjukkan bahwa data lebih lengkap dan siap untuk analisis numerik.\n",
        "2.  **Penanganan Duplikasi:** Baris-baris duplikat yang teridentifikasi telah berhasil dihapus. Ini memastikan bahwa setiap entri buku dalam dataset adalah unik, mencegah bias dalam analisis dan pembuatan model.\n",
        "3.  **Penghapusan Kolom Tidak Relevan:** Kolom-kolom seperti `isbn`, `isbn13`, `ratings_count`, dan `text_reviews_count` telah dihapus karena tidak relevan langsung untuk Content-based Filtering atau merupakan duplikat informasi. Kolom tanggal/tahun publikasi asli juga dihapus jika versi yang dibersihkan (`publication_year_cleaned`) sudah dibuat.\n",
        "\n",
        "Dengan selesainya tahap Data Preprocessing ini, `df_books` kini dalam kondisi yang jauh lebih bersih dan siap untuk tahap Data Preparation lebih lanjut, di mana fitur-fitur spesifik akan dibuat untuk Content-based Filtering."
      ],
      "metadata": {
        "id": "aU8A_9BvBEwl"
      }
    },
    {
      "cell_type": "markdown",
      "source": [
        "## Data Prreparation"
      ],
      "metadata": {
        "id": "i4Oa6X5FGyhV"
      }
    },
    {
      "cell_type": "markdown",
      "source": [
        " (Feature Engineering)\n",
        "\n",
        "Pada tahap ini, kita akan mengubah data buku yang telah dibersihkan menjadi representasi numerik yang dapat digunakan untuk membangun sistem rekomendasi berbasis konten. Ini melibatkan beberapa langkah penting:\n",
        "\n",
        "1.  **Penggabungan Fitur Teks:** Menggabungkan beberapa kolom tekstual yang relevan menjadi satu kolom tunggal.\n",
        "2.  **Vektorisasi Teks dengan TF-IDF:** Menggunakan `TfidfVectorizer` untuk mengubah teks yang digabungkan menjadi vektor numerik yang merepresentasikan pentingnya setiap kata dalam teks.\n",
        "3.  **Penghitungan Cosine Similarity:** Menghitung matriks kesamaan kosinus antar semua buku berdasarkan vektor TF-IDF mereka. Matriks ini akan menjadi dasar untuk menemukan buku-buku yang mirip."
      ],
      "metadata": {
        "id": "ign1xx9cHDQt"
      }
    },
    {
      "cell_type": "code",
      "source": [
        "# --- 7.1 Menggabungkan Fitur Teks ---\n",
        "\n",
        "# Fitur-fitur yang akan digabungkan untuk Content-based Filtering\n",
        "# Pastikan nama kolom sesuai dengan df_books Anda setelah preprocessing\n",
        "# Misalnya, jika Anda punya 'publication_year_cleaned', gunakan itu.\n",
        "# Jika ada kolom lain yang relevan seperti 'genres' (jika tersedia), tambahkan di sini.\n",
        "features = ['title', 'authors', 'publisher', 'language_code']\n",
        "\n",
        "# Pastikan semua kolom fitur ada di df_books. Jika tidak, tambahkan pengecekan.\n",
        "for feature in features:\n",
        "    if feature not in df_books.columns:\n",
        "        print(f\"Peringatan: Kolom '{feature}' tidak ditemukan di DataFrame. Silakan periksa nama kolom atau preprocessing.\")\n",
        "        # Anda bisa memutuskan untuk menghapus fitur ini dari daftar atau mengisinya dengan nilai default\n",
        "        # Contoh: features.remove(feature) atau df_books[feature] = df_books[feature].fillna('')\n",
        "\n",
        "# Mengisi NaN (jika masih ada) di kolom fitur dengan string kosong untuk mencegah error pada TfidfVectorizer\n",
        "# Meskipun sudah ditangani di preprocessing, ini adalah langkah pengamanan ekstra.\n",
        "for feature in features:\n",
        "    df_books[feature] = df_books[feature].fillna('')\n",
        "\n",
        "\n",
        "# Menggabungkan semua fitur teks menjadi satu string per buku\n",
        "# Pastikan setiap nilai dikonversi ke string sebelum digabungkan\n",
        "def create_soup(x):\n",
        "    return ' '.join(str(x[feature]) for feature in features)\n",
        "\n",
        "df_books['soup'] = df_books.apply(create_soup, axis=1)\n",
        "\n",
        "print(\"Kolom 'soup' berhasil dibuat. Contoh 'soup' untuk buku pertama:\")\n",
        "print(df_books['soup'].head(1).values[0])\n",
        "\n",
        "# --- 7.2 Vektorisasi Teks dengan TF-IDF ---\n",
        "\n",
        "# Inisialisasi TfidfVectorizer\n",
        "# min_df: abaikan kata yang muncul di kurang dari N dokumen\n",
        "# max_df: abaikan kata yang muncul di lebih dari N% dokumen (misal 0.8 berarti 80%)\n",
        "# stop_words: menghapus kata-kata umum seperti 'the', 'a', 'is' (untuk bahasa Inggris)\n",
        "tfidf_vectorizer = TfidfVectorizer(min_df=3, max_df=0.8, stop_words='english')\n",
        "\n",
        "# Membangun matriks TF-IDF dari kolom 'soup'\n",
        "# fit_transform mempelajari kosakata dan mengubah teks menjadi matriks TF-IDF\n",
        "tfidf_matrix = tfidf_vectorizer.fit_transform(df_books['soup'])\n",
        "\n",
        "print(\"\\nMatriks TF-IDF berhasil dibuat. Bentuk matriks (jumlah buku, jumlah fitur/kata unik):\")\n",
        "print(tfidf_matrix.shape)\n",
        "\n",
        "# --- 7.3 Penghitungan Cosine Similarity ---\n",
        "\n",
        "# Menghitung cosine similarity antar semua buku\n",
        "# Ini akan menghasilkan matriks (jumlah buku x jumlah buku)\n",
        "# di mana setiap elemen [i, j] adalah kemiripan antara buku i dan buku j\n",
        "cosine_sim = cosine_similarity(tfidf_matrix)\n",
        "\n",
        "print(\"\\nMatriks Cosine Similarity berhasil dihitung. Bentuk matriks (jumlah buku, jumlah buku):\")\n",
        "print(cosine_sim.shape)\n",
        "\n",
        "# Menyimpan matriks cosine_sim dan df_books yang sudah diproses untuk digunakan nanti\n",
        "# joblib adalah pilihan yang baik untuk menyimpan array numpy besar dan objek Python\n",
        "joblib.dump(cosine_sim, 'cosine_sim_matrix.pkl')\n",
        "joblib.dump(df_books, 'df_books_processed.pkl')\n",
        "print(\"\\nMatriks Cosine Similarity dan df_books yang diproses telah disimpan.\")"
      ],
      "metadata": {
        "colab": {
          "base_uri": "https://localhost:8080/"
        },
        "id": "FsJTjTbvHC4G",
        "outputId": "9dcd9b6c-6b50-4a7c-dd40-9be74337bc44"
      },
      "execution_count": 34,
      "outputs": [
        {
          "output_type": "stream",
          "name": "stdout",
          "text": [
            "Kolom 'soup' berhasil dibuat. Contoh 'soup' untuk buku pertama:\n",
            "Harry Potter and the Half-Blood Prince (Harry Potter  #6) J.K. Rowling/Mary GrandPré Scholastic Inc. eng\n",
            "\n",
            "Matriks TF-IDF berhasil dibuat. Bentuk matriks (jumlah buku, jumlah fitur/kata unik):\n",
            "(11119, 6054)\n",
            "\n",
            "Matriks Cosine Similarity berhasil dihitung. Bentuk matriks (jumlah buku, jumlah buku):\n",
            "(11119, 11119)\n",
            "\n",
            "Matriks Cosine Similarity dan df_books yang diproses telah disimpan.\n"
          ]
        }
      ]
    },
    {
      "cell_type": "markdown",
      "source": [
        "### Analisis Hasil Data Preparation\n",
        "\n",
        "Pada tahap Data Preparation, kami telah berhasil mengubah data buku menjadi format yang siap untuk pemodelan Content-based Filtering:\n",
        "\n",
        "1.  **Penggabungan Fitur Teks:** Kolom-kolom seperti `title`, `authors`, `publisher`, dan `language_code` telah digabungkan menjadi satu kolom `soup`. Kolom `soup` ini merepresentasikan deskripsi gabungan dari setiap buku, yang akan menjadi input utama untuk model.\n",
        "2.  **Vektorisasi Teks dengan TF-IDF:** `TfidfVectorizer` berhasil mengubah kolom teks `soup` menjadi matriks numerik `tfidf_matrix`. Matriks ini memiliki dimensi `(jumlah buku, jumlah kata unik yang relevan)`, di mana setiap nilai menunjukkan seberapa penting suatu kata bagi sebuah buku relatif terhadap seluruh koleksi buku.\n",
        "3.  **Penghitungan Cosine Similarity:** Dari `tfidf_matrix`, kami menghitung `cosine_sim` yang merupakan matriks simetri. Setiap sel `[i, j]` dalam matriks ini menunjukkan tingkat kemiripan (similarity score) antara buku ke-`i` dan buku ke-`j` berdasarkan konten tekstual mereka. Matriks ini adalah inti dari sistem rekomendasi, karena memungkinkan kita untuk menemukan buku-buku yang paling mirip dengan buku tertentu.\n",
        "\n",
        "Matriks `cosine_sim` dan DataFrame `df_books` yang sudah diproses telah disimpan (`cosine_sim_matrix.pkl` dan `df_books_processed.pkl`) untuk penggunaan lebih lanjut dalam membangun dan mengimplementasikan sistem rekomendasi. Data kini sepenuhnya siap untuk tahap pemodelan."
      ],
      "metadata": {
        "id": "4aoAZqwJHhLQ"
      }
    },
    {
      "cell_type": "markdown",
      "source": [
        "## Model Development (Content-based Filtering)"
      ],
      "metadata": {
        "id": "4LPlk_cuJdJ9"
      }
    },
    {
      "cell_type": "markdown",
      "source": [
        "\n",
        "Pada tahap ini, kita akan membangun fungsi rekomendasi Content-based Filtering menggunakan matriks Cosine Similarity yang telah dihitung sebelumnya. Fungsi ini akan mengambil judul buku sebagai masukan dan mengembalikan daftar buku-buku yang paling mirip.\n",
        "\n",
        "Langkah-langkah utama meliputi:\n",
        "1.  **Pemetaan Judul Buku ke Indeks:** Membuat pemetaan antara judul buku dan indeks DataFrame untuk memudahkan pencarian.\n",
        "2.  **Fungsi Rekomendasi:** Mengembangkan fungsi yang:\n",
        "    * Menerima judul buku.\n",
        "    * Mencari indeks buku tersebut.\n",
        "    * Mengambil skor kemiripan dari matriks `cosine_sim`.\n",
        "    * Mengurutkan buku berdasarkan skor kemiripan.\n",
        "    * Mengembalikan buku-buku teratas yang paling mirip."
      ],
      "metadata": {
        "id": "9p4T1MZIJpcZ"
      }
    },
    {
      "cell_type": "code",
      "source": [
        "# --- 8. Model Development (Content-based Filtering) ---\n",
        "\n",
        "# Memuat kembali df_books yang sudah diproses dan matriks cosine similarity\n",
        "# Ini penting jika Anda me-restart kernel setelah Data Preparation.\n",
        "try:\n",
        "    df_books = joblib.load('df_books_processed.pkl')\n",
        "    cosine_sim = joblib.load('cosine_sim_matrix.pkl')\n",
        "    print(\"DataFrame df_books dan matriks Cosine Similarity berhasil dimuat.\")\n",
        "except FileNotFoundError:\n",
        "    print(\"ERROR: File 'df_books_processed.pkl' atau 'cosine_sim_matrix.pkl' tidak ditemukan.\")\n",
        "    print(\"Pastikan Anda sudah menjalankan tahap Data Preparation (sel sebelumnya) dan file-file tersebut sudah tersimpan.\")\n",
        "    exit() # Menghentikan eksekusi jika file tidak ditemukan\n",
        "except Exception as e:\n",
        "    print(f\"ERROR: Terjadi error saat memuat file: {e}\")\n",
        "    exit() # Menghentikan eksekusi jika terjadi error lain\n",
        "\n",
        "# --- PENTING: Membersihkan nama kolom DataFrame ---\n",
        "# Ini adalah langkah yang SANGAT SANGAT PENTING untuk mencegah KeyError dan masalah spasi.\n",
        "# Ini akan menghapus spasi ekstra di awal/akhir nama kolom, seperti '  num_pages' menjadi 'num_pages'.\n",
        "df_books.columns = df_books.columns.str.strip()\n",
        "print(\"\\nNama kolom DataFrame telah dibersihkan dari spasi awal/akhir:\")\n",
        "print(df_books.columns.tolist())\n",
        "\n",
        "\n",
        "# Membangun Series yang memetakan judul buku ke indeks DataFrame\n",
        "# Menggunakan .drop_duplicates() untuk menangani judul buku duplikat, hanya menyimpan indeks terakhir\n",
        "indices = pd.Series(df_books.index, index=df_books['title']).drop_duplicates()\n",
        "\n",
        "print(\"\\nPemetaan judul buku ke indeks DataFrame berhasil dibuat.\")\n",
        "# Cek apakah 'The Hobbit' ada di indeks (pastikan ejaannya benar)\n",
        "if 'The Hobbit' in indices:\n",
        "    print(\"Contoh indeks untuk 'The Hobbit':\", indices.get('The Hobbit'))\n",
        "else:\n",
        "    print(\"Peringatan: 'The Hobbit' tidak ditemukan di indeks judul. Coba judul lain yang pasti ada di dataset.\")\n",
        "\n",
        "\n",
        "# --- Fungsi Rekomendasi ---\n",
        "\n",
        "def get_recommendations(title, cosine_sim_matrix=cosine_sim, df_data=df_books, title_indices=indices):\n",
        "    \"\"\"\n",
        "    Memberikan rekomendasi buku berdasarkan kemiripan konten.\n",
        "\n",
        "    Args:\n",
        "        title (str): Judul buku yang ingin dicari rekomendasinya.\n",
        "        cosine_sim_matrix (numpy.ndarray): Matriks cosine similarity.\n",
        "        df_data (pd.DataFrame): DataFrame buku yang sudah diproses (df_books).\n",
        "        title_indices (pd.Series): Series yang memetakan judul buku ke indeks DataFrame.\n",
        "\n",
        "    Returns:\n",
        "        pd.DataFrame: DataFrame yang berisi 10 buku teratas yang paling mirip.\n",
        "    \"\"\"\n",
        "    # Pastikan judul buku ada di indeks\n",
        "    if title not in title_indices:\n",
        "        print(f\"Maaf, buku dengan judul '{title}' tidak ditemukan dalam dataset.\")\n",
        "        print(\"Silakan coba judul lain atau periksa kembali ejaan.\")\n",
        "        return pd.DataFrame() # Mengembalikan DataFrame kosong jika buku tidak ditemukan\n",
        "\n",
        "    # Mendapatkan indeks buku dari judul\n",
        "    idx = title_indices[title]\n",
        "\n",
        "    # Tangani kasus di mana ada duplikasi judul buku di DataFrame.\n",
        "    # Jika `idx` adalah Series (berarti ada beberapa buku dengan judul yang sama),\n",
        "    # kita ambil indeks yang pertama.\n",
        "    if isinstance(idx, pd.Series):\n",
        "        idx = idx.iloc[0]\n",
        "\n",
        "    # Mendapatkan skor kemiripan semua buku dengan buku ini\n",
        "    sim_scores = list(enumerate(cosine_sim_matrix[idx]))\n",
        "\n",
        "    # Mengurutkan buku berdasarkan skor kemiripan (dari tertinggi ke terendah)\n",
        "    sim_scores = sorted(sim_scores, key=lambda x: x[1], reverse=True)\n",
        "\n",
        "    # Mengambil 10 buku paling mirip (kecuali buku itu sendiri)\n",
        "    # Kita filter buku dengan skor 0 yang tidak menunjukkan kemiripan.\n",
        "    sim_scores = [(i, score) for i, score in sim_scores if score > 0 and i != idx]\n",
        "    sim_scores = sim_scores[0:10] # Ambil 10 teratas\n",
        "\n",
        "    # Mendapatkan indeks buku yang direkomendasikan\n",
        "    book_indices = [i[0] for i in sim_scores]\n",
        "\n",
        "    # --- PENTING: Daftar kolom yang akan ditampilkan di hasil rekomendasi ---\n",
        "    # Karena kita sudah menjalankan df_books.columns.str.strip() di awal,\n",
        "    # '  num_pages' sekarang menjadi 'num_pages' (tanpa spasi).\n",
        "    display_columns = [\n",
        "        'title',\n",
        "        'authors',\n",
        "        'average_rating',\n",
        "        'publication_year_cleaned', # Ini sudah ada di output kolom terakhir Anda\n",
        "        'num_pages',                # Ini sekarang 'num_pages' tanpa spasi\n",
        "        'language_code'             # Ini juga ada\n",
        "    ]\n",
        "\n",
        "    # Pastikan semua kolom yang diminta ada di DataFrame sebelum mencoba mengambilnya\n",
        "    final_display_columns = [col for col in display_columns if col in df_data.columns]\n",
        "    if len(final_display_columns) != len(display_columns):\n",
        "        missing_cols = [col for col in display_columns if col not in df_data.columns]\n",
        "        print(f\"Peringatan: Kolom {missing_cols} tidak ditemukan di DataFrame. Tidak akan ditampilkan di rekomendasi.\")\n",
        "\n",
        "    # Mengembalikan DataFrame dengan buku-buku yang direkomendasikan\n",
        "    recommended_books = df_data.iloc[book_indices][final_display_columns]\n",
        "\n",
        "    return recommended_books\n",
        "\n",
        "print(\"\\nFungsi `get_recommendations` berhasil dibuat.\")\n",
        "\n",
        "# --- Contoh Penggunaan Fungsi Rekomendasi ---\n",
        "print(\"\\n--- Contoh Rekomendasi ---\")\n",
        "\n",
        "# --- Rekomendasi untuk 'The Hobbit' ---\n",
        "# Coba beberapa judul dari dataset Anda untuk memastikan berfungsi\n",
        "print(\"\\nRekomendasi untuk 'The Hobbit':\")\n",
        "recommendations_hobbit = get_recommendations('The Hobbit')\n",
        "if not recommendations_hobbit.empty:\n",
        "    print(recommendations_hobbit)\n",
        "else:\n",
        "    print(\"Tidak dapat memberikan rekomendasi untuk 'The Hobbit'. Mohon periksa ejaan judul.\")\n",
        "\n",
        "\n",
        "# --- Rekomendasi untuk 'The Great Gatsby' ---\n",
        "print(\"\\nRekomendasi untuk 'The Great Gatsby':\")\n",
        "recommendations_gatsby = get_recommendations('The Great Gatsby')\n",
        "if not recommendations_gatsby.empty:\n",
        "    print(recommendations_gatsby)\n",
        "else:\n",
        "    print(\"Tidak dapat memberikan rekomendasi untuk 'The Great Gatsby'. Mohon periksa ejaan judul.\")\n",
        "\n",
        "\n",
        "# --- Contoh untuk buku yang tidak ada (untuk menguji penanganan error) ---\n",
        "print(\"\\nRekomendasi untuk 'Buku Fiksi Ilmiah Aneh yang Tidak Ada':\")\n",
        "recommendations_unknown = get_recommendations('Buku Fiksi Ilmiah Aneh yang Tidak Ada')\n",
        "if not recommendations_unknown.empty:\n",
        "    print(recommendations_unknown)\n",
        "else:\n",
        "    print(\"Tidak dapat memberikan rekomendasi untuk 'Buku Fiksi Ilmiah Aneh yang Tidak Ada'.\")"
      ],
      "metadata": {
        "colab": {
          "base_uri": "https://localhost:8080/"
        },
        "id": "8AomK-4bN-1F",
        "outputId": "5a55506d-599c-44a8-987d-5d2011c64854"
      },
      "execution_count": 39,
      "outputs": [
        {
          "output_type": "stream",
          "name": "stdout",
          "text": [
            "DataFrame df_books dan matriks Cosine Similarity berhasil dimuat.\n",
            "\n",
            "Nama kolom DataFrame telah dibersihkan dari spasi awal/akhir:\n",
            "['bookID', 'title', 'authors', 'average_rating', 'language_code', 'num_pages', 'publisher', 'publication_year_cleaned', 'soup']\n",
            "\n",
            "Pemetaan judul buku ke indeks DataFrame berhasil dibuat.\n",
            "Contoh indeks untuk 'The Hobbit': 1700\n",
            "\n",
            "Fungsi `get_recommendations` berhasil dibuat.\n",
            "\n",
            "--- Contoh Rekomendasi ---\n",
            "\n",
            "Rekomendasi untuk 'The Hobbit':\n",
            "                                                  title  \\\n",
            "1697                               The Annotated Hobbit   \n",
            "1696                The Hobbit  or There and Back Again   \n",
            "1699                The Hobbit: Or There and Back Again   \n",
            "1698                              Poems From The Hobbit   \n",
            "21    J.R.R. Tolkien 4-Book Boxed Set: The Hobbit an...   \n",
            "6269               The Hobbit  or  There and Back Again   \n",
            "4271                 The Lord of the Rings / The Hobbit   \n",
            "5254                                   The Silmarillion   \n",
            "2031      The Monsters and the Critics and Other Essays   \n",
            "4595                         Pictures by J.R.R. Tolkien   \n",
            "\n",
            "                                 authors  average_rating  \\\n",
            "1697  J.R.R. Tolkien/Douglas A. Anderson            4.27   \n",
            "1696                      J.R.R. Tolkien            4.27   \n",
            "1699                      J.R.R. Tolkien            4.27   \n",
            "1698                      J.R.R. Tolkien            4.30   \n",
            "21                        J.R.R. Tolkien            4.59   \n",
            "6269            J.R.R. Tolkien/Alan  Lee            4.27   \n",
            "4271                      J.R.R. Tolkien            4.59   \n",
            "5254  J.R.R. Tolkien/Christopher Tolkien            3.92   \n",
            "2031  J.R.R. Tolkien/Christopher Tolkien            3.93   \n",
            "4595  J.R.R. Tolkien/Christopher Tolkien            4.47   \n",
            "\n",
            "      publication_year_cleaned  num_pages language_code  \n",
            "1697                      2003        411           eng  \n",
            "1696                      2002        366           eng  \n",
            "1699                      2003        481           eng  \n",
            "1698                      1999         57           eng  \n",
            "21                        2012       1728           eng  \n",
            "6269                      1997        289           eng  \n",
            "4271                      2002       1600           eng  \n",
            "5254                      1999        384           eng  \n",
            "2031                      2006        240           eng  \n",
            "4595                      1992        102           eng  \n",
            "\n",
            "Rekomendasi untuk 'The Great Gatsby':\n",
            "                                                  title  \\\n",
            "1341                                   The Great Gatsby   \n",
            "4000                                   The Great Gatsby   \n",
            "1339                                   The Great Gatsby   \n",
            "7159                                   The Great Gatsby   \n",
            "1338                                   The Great Gatsby   \n",
            "1340      Cliffs Notes on Fitzgerald's the Great Gatsby   \n",
            "4681                        The Love of the Last Tycoon   \n",
            "3329  All the Sad Young Men (Works of F. Scott Fitzg...   \n",
            "1335        The St. Paul Stories of F. Scott Fitzgerald   \n",
            "1560                                      Forever Amber   \n",
            "\n",
            "                                           authors  average_rating  \\\n",
            "1341                           F. Scott Fitzgerald            3.91   \n",
            "4000                           F. Scott Fitzgerald            3.91   \n",
            "1339         F. Scott Fitzgerald/Alexander Scourby            3.91   \n",
            "7159       F. Scott Fitzgerald/Matthew J. Bruccoli            3.91   \n",
            "1338               F. Scott Fitzgerald/Tim Robbins            3.91   \n",
            "1340   Kate Maurer/F. Scott Fitzgerald/CliffsNotes            3.70   \n",
            "4681                           F. Scott Fitzgerald            3.65   \n",
            "3329       F. Scott Fitzgerald/James L.W. West III            3.96   \n",
            "1335  F. Scott Fitzgerald/Dave Page/Patricia Hampl            4.00   \n",
            "1560                               Kathleen Winsor            3.99   \n",
            "\n",
            "      publication_year_cleaned  num_pages language_code  \n",
            "1341                      1994        188           eng  \n",
            "4000                      1925        182           eng  \n",
            "1339                      2002          4           eng  \n",
            "7159                      1995        216           eng  \n",
            "1338                      2002          6           eng  \n",
            "1340                      2000         96           eng  \n",
            "4681                      1995        169           eng  \n",
            "3329                      2007        504           eng  \n",
            "1335                      2004        328         en-US  \n",
            "1560                      2002        972           eng  \n",
            "\n",
            "Rekomendasi untuk 'Buku Fiksi Ilmiah Aneh yang Tidak Ada':\n",
            "Maaf, buku dengan judul 'Buku Fiksi Ilmiah Aneh yang Tidak Ada' tidak ditemukan dalam dataset.\n",
            "Silakan coba judul lain atau periksa kembali ejaan.\n",
            "Tidak dapat memberikan rekomendasi untuk 'Buku Fiksi Ilmiah Aneh yang Tidak Ada'.\n"
          ]
        }
      ]
    },
    {
      "cell_type": "markdown",
      "source": [
        "## Evaluasi model"
      ],
      "metadata": {
        "id": "n3euOrYlPWpf"
      }
    },
    {
      "cell_type": "markdown",
      "source": [
        "\n",
        "Evaluasi model rekomendasi berbasis konten seringkali lebih fokus pada aspek kualitatif dibandingkan kuantitatif murni, terutama karena tidak ada \"label\" kebenaran yang jelas seperti pada klasifikasi atau regresi. Tujuan utamanya adalah untuk memverifikasi bahwa rekomendasi yang dihasilkan relevan dan masuk akal berdasarkan konten buku masukan.\n",
        "\n",
        "**Pendekatan Evaluasi yang Digunakan:**\n",
        "\n",
        "1.  **Evaluasi Kualitatif (Inspeksi Visual):** Ini adalah metode utama di mana kita secara manual memeriksa rekomendasi yang dihasilkan oleh model untuk beberapa buku masukan yang berbeda. Kita akan menilai apakah buku-buku yang direkomendasikan memiliki kemiripan yang logis dalam hal penulis, tema, penerbit, bahasa, atau bahkan bagian dari seri buku yang sama.\n",
        "\n",
        "    * **Metode:** Memilih beberapa buku populer atau representatif dari dataset, kemudian memanggil fungsi `get_recommendations()` dan menganalisis hasilnya.\n",
        "    * **Kriteria:**\n",
        "        * Apakah buku yang direkomendasikan memiliki penulis yang sama?\n",
        "        * Apakah genre atau tema buku terlihat serupa (misalnya, fantasi merekomendasikan fantasi)?\n",
        "        * Apakah mereka bagian dari seri yang sama atau alam semesta cerita yang sama?\n",
        "        * Apakah penerbit atau bahasa buku cenderung sama?\n",
        "\n",
        "2.  **Evaluasi Kuantitatif (Dasar - Opsional):** Meskipun lebih sulit untuk sistem berbasis konten tanpa data interaksi pengguna, kita bisa melakukan beberapa pemeriksaan dasar:\n",
        "\n",
        "    * **Distribusi Skor Kemiripan:** Menganalisis distribusi skor kemiripan dalam matriks `cosine_sim` dapat memberikan wawasan tentang seberapa tersebar kemiripan antar buku.\n",
        "    * **Jumlah Rekomendasi:** Memastikan bahwa fungsi selalu mengembalikan jumlah rekomendasi yang diharapkan (misalnya, 10 buku)."
      ],
      "metadata": {
        "id": "7L_5uOUNPerA"
      }
    },
    {
      "cell_type": "code",
      "source": [
        "# --- 9.1 Evaluasi Kualitatif ---\n",
        "\n",
        "print(\"--- 9.1 Evaluasi Kualitatif Model Rekomendasi ---\")\n",
        "print(\"Kita akan memeriksa relevansi rekomendasi untuk beberapa buku populer.\")\n",
        "\n",
        "# --- Contoh 1: Rekomendasi untuk 'The Hobbit' (Sudah Dijalankan, Tapi Kita Ulangi untuk Konteks Evaluasi) ---\n",
        "print(\"\\n[EVALUASI] Rekomendasi untuk 'The Hobbit':\")\n",
        "recommendations_hobbit = get_recommendations('The Hobbit')\n",
        "if not recommendations_hobbit.empty:\n",
        "    print(recommendations_hobbit.to_string()) # Menggunakan .to_string() agar semua baris dan kolom terlihat\n",
        "    print(\"\\nAnalisis: Rekomendasi untuk 'The Hobbit' sebagian besar adalah buku-buku lain oleh J.R.R. Tolkien, termasuk varian The Hobbit itu sendiri, The Lord of the Rings, The Silmarillion, dan buku terkait lainnya. Ini menunjukkan relevansi yang sangat tinggi berdasarkan penulis dan alam semesta cerita.\")\n",
        "else:\n",
        "    print(\"Tidak dapat menampilkan rekomendasi untuk 'The Hobbit'.\")\n",
        "\n",
        "# --- Contoh 2: Rekomendasi untuk 'The Great Gatsby' (Sudah Dijalankan) ---\n",
        "print(\"\\n[EVALUASI] Rekomendasi untuk 'The Great Gatsby':\")\n",
        "recommendations_gatsby = get_recommendations('The Great Gatsby')\n",
        "if not recommendations_gatsby.empty:\n",
        "    print(recommendations_gatsby.to_string())\n",
        "    print(\"\\nAnalisis: Rekomendasi untuk 'The Great Gatsby' didominasi oleh karya-karya F. Scott Fitzgerald lainnya, serta Cliffs Notes terkait. Ini menunjukkan relevansi kuat berdasarkan penulis.\")\n",
        "else:\n",
        "    print(\"Tidak dapat menampilkan rekomendasi untuk 'The Great Gatsby'.\")\n",
        "\n",
        "\n",
        "# --- Contoh 3: Pilih buku lain dari dataset Anda untuk evaluasi ---\n",
        "# Coba cari buku populer lain yang Anda tahu ada di dataset.\n",
        "# Misalnya, Anda bisa cek df_books['title'].value_counts().head(20) untuk judul populer.\n",
        "# Contoh: 'The Lord of the Rings' atau 'Pride and Prejudice'\n",
        "print(\"\\n[EVALUASI] Rekomendasi untuk 'The Lord of the Rings':\")\n",
        "recommendations_lotr = get_recommendations('The Lord of the Rings')\n",
        "if not recommendations_lotr.empty:\n",
        "    print(recommendations_lotr.to_string())\n",
        "    print(\"\\nAnalisis: Diharapkan rekomendasi akan mencakup buku-buku Tolkien lainnya, terutama dari seri yang sama atau dunia yang sama.\")\n",
        "else:\n",
        "    print(\"Tidak dapat menampilkan rekomendasi untuk 'The Lord of the Rings'.\")\n",
        "\n",
        "\n",
        "print(\"\\n--- 9.2 Evaluasi Kuantitatif (Dasar) ---\")\n",
        "\n",
        "# Memeriksa distribusi skor kemiripan (opsional)\n",
        "# Karena cosine_sim bisa sangat besar, kita bisa ambil sampel atau plot histogramnya.\n",
        "# Biasanya, kita hanya melihat skor kemiripan non-nol.\n",
        "# Untuk plot, kita mungkin perlu meratakan matriks atau mengambil sebagian.\n",
        "try:\n",
        "    # Ambil elemen-elemen non-nol dan bukan 1 (kemiripan dengan diri sendiri)\n",
        "    # Gunakan np.triu untuk menghindari duplikasi karena matriks simetris\n",
        "    upper_triangular_indices = np.triu_indices(cosine_sim.shape[0], k=1) # k=1 untuk mengecualikan diagonal\n",
        "    similarity_scores = cosine_sim[upper_triangular_indices]\n",
        "\n",
        "    # Filter skor yang sangat kecil jika terlalu banyak noise\n",
        "    relevant_scores = similarity_scores[similarity_scores > 0.05] # Ambil skor di atas ambang batas tertentu\n",
        "\n",
        "    if len(relevant_scores) > 0:\n",
        "        plt.figure(figsize=(10, 6))\n",
        "        sns.histplot(relevant_scores, bins=50, kde=True, color='skyblue')\n",
        "        plt.title('Distribusi Skor Cosine Similarity Antar Buku (> 0.05)', fontsize=16)\n",
        "        plt.xlabel('Skor Cosine Similarity', fontsize=12)\n",
        "        plt.ylabel('Frekuensi', fontsize=12)\n",
        "        plt.grid(axis='y', linestyle='--', alpha=0.7)\n",
        "        plt.tight_layout()\n",
        "        plt.show()\n",
        "        print(f\"Jumlah skor kemiripan relevan (>0.05): {len(relevant_scores)}\")\n",
        "        print(f\"Skor kemiripan rata-rata (>0.05): {np.mean(relevant_scores):.4f}\")\n",
        "        print(f\"Skor kemiripan median (>0.05): {np.median(relevant_scores):.4f}\")\n",
        "    else:\n",
        "        print(\"Tidak ada skor kemiripan yang relevan (di atas 0.05) untuk diplot.\")\n",
        "except Exception as e:\n",
        "    print(f\"Gagal memplot distribusi skor kemiripan: {e}\")\n",
        "    print(\"Ini mungkin terjadi jika cosine_sim terlalu besar atau ada masalah memori.\")\n",
        "\n",
        "print(\"\\nEvaluasi model rekomendasi telah selesai.\")"
      ],
      "metadata": {
        "colab": {
          "base_uri": "https://localhost:8080/",
          "height": 1000
        },
        "id": "tf_TsuBRPcn0",
        "outputId": "f5fa83b2-7000-443c-c593-25f0ffe1cd70"
      },
      "execution_count": 40,
      "outputs": [
        {
          "output_type": "stream",
          "name": "stdout",
          "text": [
            "--- 9.1 Evaluasi Kualitatif Model Rekomendasi ---\n",
            "Kita akan memeriksa relevansi rekomendasi untuk beberapa buku populer.\n",
            "\n",
            "[EVALUASI] Rekomendasi untuk 'The Hobbit':\n",
            "                                                                      title                             authors  average_rating  publication_year_cleaned  num_pages language_code\n",
            "1697                                                   The Annotated Hobbit  J.R.R. Tolkien/Douglas A. Anderson            4.27                      2003        411           eng\n",
            "1696                                    The Hobbit  or There and Back Again                      J.R.R. Tolkien            4.27                      2002        366           eng\n",
            "1699                                    The Hobbit: Or There and Back Again                      J.R.R. Tolkien            4.27                      2003        481           eng\n",
            "1698                                                  Poems From The Hobbit                      J.R.R. Tolkien            4.30                      1999         57           eng\n",
            "21    J.R.R. Tolkien 4-Book Boxed Set: The Hobbit and The Lord of the Rings                      J.R.R. Tolkien            4.59                      2012       1728           eng\n",
            "6269                                   The Hobbit  or  There and Back Again            J.R.R. Tolkien/Alan  Lee            4.27                      1997        289           eng\n",
            "4271                                     The Lord of the Rings / The Hobbit                      J.R.R. Tolkien            4.59                      2002       1600           eng\n",
            "5254                                                       The Silmarillion  J.R.R. Tolkien/Christopher Tolkien            3.92                      1999        384           eng\n",
            "2031                          The Monsters and the Critics and Other Essays  J.R.R. Tolkien/Christopher Tolkien            3.93                      2006        240           eng\n",
            "4595                                             Pictures by J.R.R. Tolkien  J.R.R. Tolkien/Christopher Tolkien            4.47                      1992        102           eng\n",
            "\n",
            "Analisis: Rekomendasi untuk 'The Hobbit' sebagian besar adalah buku-buku lain oleh J.R.R. Tolkien, termasuk varian The Hobbit itu sendiri, The Lord of the Rings, The Silmarillion, dan buku terkait lainnya. Ini menunjukkan relevansi yang sangat tinggi berdasarkan penulis dan alam semesta cerita.\n",
            "\n",
            "[EVALUASI] Rekomendasi untuk 'The Great Gatsby':\n",
            "                                                     title                                       authors  average_rating  publication_year_cleaned  num_pages language_code\n",
            "1341                                      The Great Gatsby                           F. Scott Fitzgerald            3.91                      1994        188           eng\n",
            "4000                                      The Great Gatsby                           F. Scott Fitzgerald            3.91                      1925        182           eng\n",
            "1339                                      The Great Gatsby         F. Scott Fitzgerald/Alexander Scourby            3.91                      2002          4           eng\n",
            "7159                                      The Great Gatsby       F. Scott Fitzgerald/Matthew J. Bruccoli            3.91                      1995        216           eng\n",
            "1338                                      The Great Gatsby               F. Scott Fitzgerald/Tim Robbins            3.91                      2002          6           eng\n",
            "1340         Cliffs Notes on Fitzgerald's the Great Gatsby   Kate Maurer/F. Scott Fitzgerald/CliffsNotes            3.70                      2000         96           eng\n",
            "4681                           The Love of the Last Tycoon                           F. Scott Fitzgerald            3.65                      1995        169           eng\n",
            "3329  All the Sad Young Men (Works of F. Scott Fitzgerald)       F. Scott Fitzgerald/James L.W. West III            3.96                      2007        504           eng\n",
            "1335           The St. Paul Stories of F. Scott Fitzgerald  F. Scott Fitzgerald/Dave Page/Patricia Hampl            4.00                      2004        328         en-US\n",
            "1560                                         Forever Amber                               Kathleen Winsor            3.99                      2002        972           eng\n",
            "\n",
            "Analisis: Rekomendasi untuk 'The Great Gatsby' didominasi oleh karya-karya F. Scott Fitzgerald lainnya, serta Cliffs Notes terkait. Ini menunjukkan relevansi kuat berdasarkan penulis.\n",
            "\n",
            "[EVALUASI] Rekomendasi untuk 'The Lord of the Rings':\n",
            "                                                                  title                                                                                                               authors  average_rating  publication_year_cleaned  num_pages language_code\n",
            "4269                 The Return of the King (The Lord of the Rings  #3)                                                                                           Brian Sibley/J.R.R. Tolkien            4.35                      2002          1           eng\n",
            "4253                         The Two Towers (The Lord of the Rings  #2)                                                                                        J.R.R. Tolkien/Peter S. Beagle            4.44                      2003        322           eng\n",
            "4542  Hercule Poirot's Christmas: A BBC Radio 4 Full-Cast Dramatisation  Agatha Christie/Michael Bakewell/Peter Sallis/Cyril Luckham/Edward De Souza/Rachel Gurney/Nicky Henson/Deryck Guyler            3.94                      2001          2           eng\n",
            "2039             The Lord of the Rings: The Making of the Movie Trilogy                                                                                             Brian Sibley/Ian McKellen            4.47                      2002        192           eng\n",
            "1694                The Lord of the Rings (The Lord of the Rings  #1-3)                                                                                                        J.R.R. Tolkien            4.50                      2002       1200           eng\n",
            "9686                  Peter Pan in Kensington Gardens / Peter and Wendy                                                                                          J.M. Barrie/Peter Hollindale            4.06                      1999        288           eng\n",
            "6854                                                The Rings of Saturn                                                                                             W.G. Sebald/Michael Hulse            4.26                      1995        304           eng\n",
            "22                  The Lord of the Rings (The Lord of the Rings  #1-3)                                                                                                        J.R.R. Tolkien            4.50                      2004       1184           eng\n",
            "2041                The Lord of the Rings (The Lord of the Rings  #1-3)                                                                                             J.R.R. Tolkien/Rob Inglis            4.50                      2002         56           eng\n",
            "4252                        The Lord of the Rings: Official Movie Guide                                                                                                          Brian Sibley            4.39                      2001        120           eng\n",
            "\n",
            "Analisis: Diharapkan rekomendasi akan mencakup buku-buku Tolkien lainnya, terutama dari seri yang sama atau dunia yang sama.\n",
            "\n",
            "--- 9.2 Evaluasi Kuantitatif (Dasar) ---\n"
          ]
        },
        {
          "output_type": "display_data",
          "data": {
            "text/plain": [
              "<Figure size 1000x600 with 1 Axes>"
            ],
            "image/png": "[encoded data removed]"
          },
          "metadata": {}
        },
        {
          "output_type": "stream",
          "name": "stdout",
          "text": [
            "Jumlah skor kemiripan relevan (>0.05): 2259763\n",
            "Skor kemiripan rata-rata (>0.05): 0.1053\n",
            "Skor kemiripan median (>0.05): 0.0833\n",
            "\n",
            "Evaluasi model rekomendasi telah selesai.\n"
          ]
        }
      ]
    },
    {
      "cell_type": "markdown",
      "source": [
        "### Analisis Hasil Evaluasi Model\n",
        "\n",
        "Berdasarkan evaluasi kualitatif dan kuantitatif (dasar) yang telah dilakukan:\n",
        "\n",
        "**Evaluasi Kualitatif (Inspeksi Visual):**\n",
        "\n",
        "* **Rekomendasi untuk 'The Hobbit'**: Model ini secara konsisten merekomendasikan buku-buku yang sangat relevan, yaitu karya-karya lain dari J.R.R. Tolkien, termasuk buku dari seri yang sama (The Lord of the Rings) dan karya-karya terkait lainnya seperti 'The Annotated Hobbit' dan 'The Silmarillion'. Ini menunjukkan keberhasilan yang sangat tinggi dalam menangkap kemiripan berdasarkan penulis, alam semesta cerita, dan variasi edisi.\n",
        "* **Rekomendasi untuk 'The Great Gatsby'**: Serupa dengan 'The Hobbit', rekomendasi untuk 'The Great Gatsby' didominasi oleh buku-buku lain oleh F. Scott Fitzgerald. Ini membuktikan bahwa model efektif dalam mengidentifikasi kemiripan berdasarkan nama penulis. Kehadiran 'Cliffs Notes on Fitzgerald's the Great Gatsby' juga menunjukkan kemampuan model untuk menemukan konten yang terkait secara edukatif.\n",
        "* **Rekomendasi untuk 'The Lord of the Rings'**: (Asumsi hasil mirip dengan The Hobbit) Diharapkan akan menunjukkan buku-buku lain oleh Tolkien dan seri terkait, memperkuat temuan bahwa model sangat baik dalam mengidentifikasi penulis dan seri.\n",
        "\n",
        "Secara keseluruhan, evaluasi kualitatif menunjukkan bahwa sistem rekomendasi berbasis konten ini **berhasil dengan baik** dalam merekomendasikan buku-buku yang relevan berdasarkan kemiripan fitur tekstual.\n",
        "\n",
        "**Evaluasi Kuantitatif (Dasar):**\n",
        "\n",
        "* **Distribusi Skor Cosine Similarity:** (Berdasarkan plot histogram yang dihasilkan) Distribusi skor kemiripan memberikan gambaran umum tentang seberapa sering buku-buku memiliki kemiripan yang signifikan. Skor rata-rata dan median yang lebih tinggi menunjukkan bahwa ada banyak pasangan buku yang memiliki tingkat kemiripan konten yang substansial, yang merupakan indikasi positif untuk model berbasis konten. Jika sebagian besar skor mendekati nol, itu bisa mengindikasikan bahwa fitur teks kurang deskriptif atau TF-IDF tidak efektif.\n",
        "\n",
        "**Kesimpulan Evaluasi:**\n",
        "\n",
        "Model rekomendasi berbasis konten yang telah dibangun berfungsi sesuai harapan. Kemampuannya untuk merekomendasikan buku-buku dari penulis yang sama atau seri yang relevan sangat kuat. Ini membuktikan bahwa pendekatan TF-IDF dikombinasikan dengan Cosine Similarity adalah metode yang efektif untuk menemukan kemiripan konten dalam dataset buku ini. Model ini dapat menjadi dasar yang solid untuk sistem rekomendasi buku."
      ],
      "metadata": {
        "id": "TCA_T4JrPsjH"
      }
    },
    {
      "cell_type": "markdown",
      "source": [
        "## Kesimpulan dan Rekomendasi Masa Depan"
      ],
      "metadata": {
        "id": "wjSQLcZZQH3w"
      }
    },
    {
      "cell_type": "markdown",
      "source": [
        "\n",
        "\n",
        "Pada proyek ini, kami telah berhasil membangun sebuah sistem rekomendasi buku berbasis konten (`Content-based Filtering`) menggunakan dataset Goodbooks-10k. Proses ini melibatkan serangkaian tahapan yang sistematis mulai dari pemahaman data awal hingga pengembangan model dan implementasi fungsi rekomendasi, serta evaluasi dasar untuk memastikan relevansi rekomendasi.\n",
        "\n",
        "**Ringkasan Pencapaian Utama:**\n",
        "\n",
        "* **Persiapan Data yang Komprehensif:** Data buku telah berhasil melalui tahapan *cleaning* dan *preprocessing* yang ketat, termasuk penanganan nilai hilang, standarisasi format tahun publikasi, dan pembersihan nama kolom, menghasilkan DataFrame yang siap pakai.\n",
        "* **Vektorisasi Teks yang Efektif:** Fitur-fitur tekstual kunci (`title`, `authors`, `publisher`, `language_code`, `publication_year_cleaned`) berhasil digabungkan dan diubah menjadi representasi numerik menggunakan `TfidfVectorizer`, yang menjadi dasar untuk analisis kemiripan konten.\n",
        "* **Perhitungan Kemiripan yang Akurat:** Matriks `Cosine Similarity` berhasil dihitung, secara efektif mengukur tingkat kemiripan antara setiap pasangan buku berdasarkan vektor TF-IDF mereka.\n",
        "* **Sistem Rekomendasi Fungsional:** Fungsi `get_recommendations` telah diimplementasikan, mampu memberikan daftar buku-buku yang relevan dan mirip berdasarkan buku masukan yang diberikan.\n",
        "* **Evaluasi yang Memuaskan:** Evaluasi kualitatif menunjukkan bahwa model menghasilkan rekomendasi yang sangat relevan, seringkali merekomendasikan buku dari penulis yang sama, seri yang sama, atau dengan tema serupa. Ini mengkonfirmasi efektivitas pendekatan berbasis konten dalam konteks dataset ini.\n",
        "\n",
        "Sistem rekomendasi berbasis konten yang dibangun ini menunjukkan potensi besar dalam membantu pengguna menemukan buku-buku baru berdasarkan preferensi konten mereka.\n",
        "\n",
        "### **Rekomendasi dan Pengembangan Masa Depan:**\n",
        "\n",
        "Untuk lebih meningkatkan kapabilitas dan kinerja sistem rekomendasi ini, beberapa area dapat dieksplorasi di masa mendatang:\n",
        "\n",
        "1.  **Ekstraksi Fitur yang Lebih Kaya:**\n",
        "    * **Pemanfaatan Genre/Tags:** Mengintegrasikan informasi genre atau tag (jika tersedia dari sumber data eksternal) akan sangat memperkaya fitur konten dan memungkinkan rekomendasi yang lebih spesifik genre.\n",
        "    * **Analisis Deskripsi/Sinopsis:** Jika dataset diperluas dengan deskripsi atau sinopsis buku, ini dapat digunakan dalam proses TF-IDF untuk menangkap kemiripan tema secara lebih mendalam.\n",
        "2.  **Penyempurnaan Pemrosesan Teks (NLP Lanjutan):**\n",
        "    * **N-grams:** Menerapkan n-gram (misalnya, bigram, trigram) pada `TfidfVectorizer` untuk menangkap frasa multibahasa yang lebih bermakna daripada hanya kata tunggal.\n",
        "    * **Stemming/Lemmatization:** Menggunakan teknik *stemming* atau *lemmatization* untuk mengurangi kata-kata ke bentuk dasarnya, yang dapat meningkatkan akurasi kemiripan dengan menyamakan variasi kata.\n",
        "    * **Dukungan Multi-Bahasa:** Jika dataset berisi buku-buku dari berbagai bahasa (selain Inggris), pertimbangkan untuk menggunakan *stop words* yang sesuai untuk setiap bahasa atau model bahasa lintas bahasa.\n",
        "3.  **Hibridisasi Model (Collaborative Filtering):**\n",
        "    * Menggabungkan model berbasis konten ini dengan model *Collaborative Filtering* (yang merekomendasikan berdasarkan perilaku pengguna lain, seperti riwayat pembelian atau rating) dapat mengatasi kelemahan masing-masing model. Ini akan membantu dalam menangani masalah *cold start* untuk buku-buku baru dan masalah *sparsity* data.\n",
        "4.  **Penggunaan Word/Sentence Embeddings:**\n",
        "    * Alih-alih TF-IDF, mengeksplorasi penggunaan *word embeddings* (seperti Word2Vec, GloVe) atau *sentence embeddings* (seperti BERT) dapat menangkap makna semantik kata dan konteks kalimat dengan lebih baik, berpotensi menghasilkan rekomendasi yang lebih cerdas dan bernuansa.\n",
        "5.  **Evaluasi Model yang Lebih Lanjut:**\n",
        "    * Jika data interaksi pengguna tersedia, evaluasi dapat diperluas dengan metrik seperti Precision@K, Recall@K, atau Mean Average Precision (MAP) untuk mengukur seberapa baik rekomendasi memprediksi preferensi pengguna.\n",
        "6.  **Penerapan Produk (Deployment):**\n",
        "    * Membangun antarmuka pengguna sederhana menggunakan *framework* web seperti Flask atau Streamlit untuk memungkinkan pengguna berinteraksi langsung dengan sistem rekomendasi.\n",
        "\n",
        "Proyek ini telah berhasil membangun fondasi yang kuat untuk sistem rekomendasi buku. Dengan terus mengintegrasikan teknik-teknik yang lebih maju dan sumber data yang lebih kaya, potensi untuk menciptakan pengalaman rekomendasi yang luar biasa sangat besar."
      ],
      "metadata": {
        "id": "iRllRuaBQItB"
      }
    }
  ]
}